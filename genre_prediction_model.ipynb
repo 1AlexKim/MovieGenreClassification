{
 "cells": [
  {
   "cell_type": "code",
   "execution_count": 1,
   "metadata": {
    "ExecuteTime": {
     "end_time": "2019-01-20T17:26:56.418020Z",
     "start_time": "2019-01-20T17:26:55.953863Z"
    }
   },
   "outputs": [],
   "source": [
    "%matplotlib inline"
   ]
  },
  {
   "cell_type": "code",
   "execution_count": 2,
   "metadata": {
    "ExecuteTime": {
     "end_time": "2019-01-20T17:26:56.715967Z",
     "start_time": "2019-01-20T17:26:56.420092Z"
    }
   },
   "outputs": [],
   "source": [
    "import numpy as np\n",
    "import pandas as pd\n",
    "from matplotlib import pyplot as plt\n",
    "import re\n",
    "import warnings\n",
    "warnings.filterwarnings(\"ignore\")"
   ]
  },
  {
   "cell_type": "code",
   "execution_count": 3,
   "metadata": {
    "ExecuteTime": {
     "end_time": "2019-01-20T17:26:57.211645Z",
     "start_time": "2019-01-20T17:26:56.718320Z"
    }
   },
   "outputs": [],
   "source": [
    "from sklearn.feature_extraction.text import CountVectorizer, TfidfVectorizer\n",
    "from sklearn.preprocessing import MultiLabelBinarizer\n",
    "from sklearn.pipeline import Pipeline\n",
    "from sklearn.base import TransformerMixin, BaseEstimator\n",
    "from sklearn.linear_model import LogisticRegression\n",
    "from lightgbm import LGBMClassifier\n",
    "from sklearn.multiclass import OneVsRestClassifier\n",
    "from sklearn.model_selection import KFold, cross_val_score, cross_val_predict, StratifiedKFold\n",
    "from sklearn.svm import LinearSVC"
   ]
  },
  {
   "cell_type": "code",
   "execution_count": 4,
   "metadata": {
    "ExecuteTime": {
     "end_time": "2019-01-20T17:26:57.636414Z",
     "start_time": "2019-01-20T17:26:57.213859Z"
    }
   },
   "outputs": [],
   "source": [
    "from nltk.tokenize.casual import TweetTokenizer\n",
    "from nltk.stem import PorterStemmer"
   ]
  },
  {
   "cell_type": "code",
   "execution_count": 5,
   "metadata": {
    "ExecuteTime": {
     "end_time": "2019-01-20T17:26:57.649624Z",
     "start_time": "2019-01-20T17:26:57.638971Z"
    }
   },
   "outputs": [],
   "source": [
    "from tqdm import tqdm_notebook as p\n",
    "from sklearn.metrics import recall_score, precision_score, f1_score"
   ]
  },
  {
   "cell_type": "code",
   "execution_count": null,
   "metadata": {},
   "outputs": [],
   "source": []
  },
  {
   "cell_type": "markdown",
   "metadata": {},
   "source": [
    "---"
   ]
  },
  {
   "cell_type": "markdown",
   "metadata": {},
   "source": [
    "# The Data"
   ]
  },
  {
   "cell_type": "code",
   "execution_count": 6,
   "metadata": {
    "ExecuteTime": {
     "end_time": "2019-01-20T17:26:58.234001Z",
     "start_time": "2019-01-20T17:26:57.653846Z"
    }
   },
   "outputs": [],
   "source": [
    "df_train = pd.read_csv('train.csv', converters={'genres': eval})"
   ]
  },
  {
   "cell_type": "code",
   "execution_count": 173,
   "metadata": {
    "ExecuteTime": {
     "end_time": "2019-01-23T05:14:06.750808Z",
     "start_time": "2019-01-23T05:14:06.686720Z"
    }
   },
   "outputs": [],
   "source": [
    "df_test = pd.read_csv('df_test.csv').drop_duplicates().drop(columns=['movie', 'movie_name'])"
   ]
  },
  {
   "cell_type": "code",
   "execution_count": 7,
   "metadata": {
    "ExecuteTime": {
     "end_time": "2019-01-20T17:26:58.253120Z",
     "start_time": "2019-01-20T17:26:58.235667Z"
    }
   },
   "outputs": [
    {
     "data": {
      "text/html": [
       "<div>\n",
       "<style scoped>\n",
       "    .dataframe tbody tr th:only-of-type {\n",
       "        vertical-align: middle;\n",
       "    }\n",
       "\n",
       "    .dataframe tbody tr th {\n",
       "        vertical-align: top;\n",
       "    }\n",
       "\n",
       "    .dataframe thead th {\n",
       "        text-align: right;\n",
       "    }\n",
       "</style>\n",
       "<table border=\"1\" class=\"dataframe\">\n",
       "  <thead>\n",
       "    <tr style=\"text-align: right;\">\n",
       "      <th></th>\n",
       "      <th>id</th>\n",
       "      <th>movie</th>\n",
       "      <th>dialogue</th>\n",
       "      <th>genres</th>\n",
       "    </tr>\n",
       "  </thead>\n",
       "  <tbody>\n",
       "    <tr>\n",
       "      <th>0</th>\n",
       "      <td>0</td>\n",
       "      <td>0</td>\n",
       "      <td>I thought you were in a meeting--? &lt;BR&gt; I am. ...</td>\n",
       "      <td>[drama, romance]</td>\n",
       "    </tr>\n",
       "    <tr>\n",
       "      <th>1</th>\n",
       "      <td>1</td>\n",
       "      <td>1</td>\n",
       "      <td>Are you sure you're okay?  You're pale. &lt;BR&gt; I...</td>\n",
       "      <td>[drama]</td>\n",
       "    </tr>\n",
       "    <tr>\n",
       "      <th>2</th>\n",
       "      <td>2</td>\n",
       "      <td>2</td>\n",
       "      <td>Go on! Get out! &lt;BR&gt; Mom look don't say anythi...</td>\n",
       "      <td>[comedy]</td>\n",
       "    </tr>\n",
       "    <tr>\n",
       "      <th>3</th>\n",
       "      <td>3</td>\n",
       "      <td>3</td>\n",
       "      <td>I could have lost my fucking hands. &lt;BR&gt; That ...</td>\n",
       "      <td>[mystery, thriller]</td>\n",
       "    </tr>\n",
       "    <tr>\n",
       "      <th>4</th>\n",
       "      <td>4</td>\n",
       "      <td>4</td>\n",
       "      <td>Stick with me on this Gloria.  I need you... &lt;...</td>\n",
       "      <td>[crime, thriller]</td>\n",
       "    </tr>\n",
       "  </tbody>\n",
       "</table>\n",
       "</div>"
      ],
      "text/plain": [
       "   id  movie                                           dialogue  \\\n",
       "0   0      0  I thought you were in a meeting--? <BR> I am. ...   \n",
       "1   1      1  Are you sure you're okay?  You're pale. <BR> I...   \n",
       "2   2      2  Go on! Get out! <BR> Mom look don't say anythi...   \n",
       "3   3      3  I could have lost my fucking hands. <BR> That ...   \n",
       "4   4      4  Stick with me on this Gloria.  I need you... <...   \n",
       "\n",
       "                genres  \n",
       "0     [drama, romance]  \n",
       "1              [drama]  \n",
       "2             [comedy]  \n",
       "3  [mystery, thriller]  \n",
       "4    [crime, thriller]  "
      ]
     },
     "execution_count": 7,
     "metadata": {},
     "output_type": "execute_result"
    }
   ],
   "source": [
    "df_train.head()"
   ]
  },
  {
   "cell_type": "code",
   "execution_count": 174,
   "metadata": {
    "ExecuteTime": {
     "end_time": "2019-01-23T05:14:08.248345Z",
     "start_time": "2019-01-23T05:14:08.240465Z"
    }
   },
   "outputs": [
    {
     "data": {
      "text/html": [
       "<div>\n",
       "<style scoped>\n",
       "    .dataframe tbody tr th:only-of-type {\n",
       "        vertical-align: middle;\n",
       "    }\n",
       "\n",
       "    .dataframe tbody tr th {\n",
       "        vertical-align: top;\n",
       "    }\n",
       "\n",
       "    .dataframe thead th {\n",
       "        text-align: right;\n",
       "    }\n",
       "</style>\n",
       "<table border=\"1\" class=\"dataframe\">\n",
       "  <thead>\n",
       "    <tr style=\"text-align: right;\">\n",
       "      <th></th>\n",
       "      <th>id</th>\n",
       "      <th>dialogue</th>\n",
       "      <th>genres</th>\n",
       "    </tr>\n",
       "  </thead>\n",
       "  <tbody>\n",
       "    <tr>\n",
       "      <th>0</th>\n",
       "      <td>0</td>\n",
       "      <td>Boy! Did you see the way Mama whopped that dep...</td>\n",
       "      <td>drama</td>\n",
       "    </tr>\n",
       "    <tr>\n",
       "      <th>1</th>\n",
       "      <td>1</td>\n",
       "      <td>Gordon, the insurance people are balking on th...</td>\n",
       "      <td>drama</td>\n",
       "    </tr>\n",
       "    <tr>\n",
       "      <th>2</th>\n",
       "      <td>2</td>\n",
       "      <td>Very fancy.  Did you design the bottle? &lt;BR&gt; W...</td>\n",
       "      <td>drama</td>\n",
       "    </tr>\n",
       "    <tr>\n",
       "      <th>3</th>\n",
       "      <td>3</td>\n",
       "      <td>It makes me so mad. Steven Schwimmer ready to ...</td>\n",
       "      <td>comedy drama</td>\n",
       "    </tr>\n",
       "    <tr>\n",
       "      <th>4</th>\n",
       "      <td>4</td>\n",
       "      <td>Something ought to loosen him up ... how comes...</td>\n",
       "      <td>action thriller</td>\n",
       "    </tr>\n",
       "  </tbody>\n",
       "</table>\n",
       "</div>"
      ],
      "text/plain": [
       "   id                                           dialogue           genres\n",
       "0   0  Boy! Did you see the way Mama whopped that dep...            drama\n",
       "1   1  Gordon, the insurance people are balking on th...            drama\n",
       "2   2  Very fancy.  Did you design the bottle? <BR> W...            drama\n",
       "3   3  It makes me so mad. Steven Schwimmer ready to ...     comedy drama\n",
       "4   4  Something ought to loosen him up ... how comes...  action thriller"
      ]
     },
     "execution_count": 174,
     "metadata": {},
     "output_type": "execute_result"
    }
   ],
   "source": [
    "df_test.head()"
   ]
  },
  {
   "cell_type": "markdown",
   "metadata": {},
   "source": [
    "## We should validate with respect to movie id because dialogs in one movie are othen similar. \n",
    "Puttin dialog from movie witch was in train part into the validation part we can get too optimistic results"
   ]
  },
  {
   "cell_type": "code",
   "execution_count": 8,
   "metadata": {
    "ExecuteTime": {
     "end_time": "2019-01-20T17:26:58.267830Z",
     "start_time": "2019-01-20T17:26:58.255389Z"
    }
   },
   "outputs": [],
   "source": [
    "df_train.sort_values('movie', inplace=True)\n",
    "df_train.reset_index(drop=True, inplace=True)"
   ]
  },
  {
   "cell_type": "code",
   "execution_count": 9,
   "metadata": {
    "ExecuteTime": {
     "end_time": "2019-01-20T17:26:58.273912Z",
     "start_time": "2019-01-20T17:26:58.270400Z"
    }
   },
   "outputs": [],
   "source": [
    "val = int(df_train.shape[0]*0.85)"
   ]
  },
  {
   "cell_type": "code",
   "execution_count": 10,
   "metadata": {
    "ExecuteTime": {
     "end_time": "2019-01-20T17:26:58.287037Z",
     "start_time": "2019-01-20T17:26:58.277888Z"
    },
    "scrolled": true
   },
   "outputs": [
    {
     "data": {
      "text/plain": [
       "id                                                      22212\n",
       "movie                                                     370\n",
       "dialogue    We have one motto: Peace on Earth. <BR> And Go...\n",
       "genres                               [action, comedy, sci-fi]\n",
       "Name: 31442, dtype: object"
      ]
     },
     "execution_count": 10,
     "metadata": {},
     "output_type": "execute_result"
    }
   ],
   "source": [
    "df_train.loc[val]"
   ]
  },
  {
   "cell_type": "code",
   "execution_count": 11,
   "metadata": {
    "ExecuteTime": {
     "end_time": "2019-01-20T17:26:58.294691Z",
     "start_time": "2019-01-20T17:26:58.289067Z"
    }
   },
   "outputs": [],
   "source": [
    "validation_part = df_train[df_train['movie'] == 371].index.min()"
   ]
  },
  {
   "cell_type": "markdown",
   "metadata": {},
   "source": [
    "Join train and test:"
   ]
  },
  {
   "cell_type": "code",
   "execution_count": 14,
   "metadata": {
    "ExecuteTime": {
     "end_time": "2019-01-20T17:26:58.351079Z",
     "start_time": "2019-01-20T17:26:58.320209Z"
    }
   },
   "outputs": [],
   "source": [
    "df = pd.concat([df_train, df_test.drop(columns=['genres'])], sort=True)\n",
    "df.drop(columns=[\"movie\"], inplace=True)"
   ]
  },
  {
   "cell_type": "code",
   "execution_count": 15,
   "metadata": {
    "ExecuteTime": {
     "end_time": "2019-01-20T17:26:58.357585Z",
     "start_time": "2019-01-20T17:26:58.352674Z"
    }
   },
   "outputs": [
    {
     "data": {
      "text/plain": [
       "0.14830634478656968"
      ]
     },
     "execution_count": 15,
     "metadata": {},
     "output_type": "execute_result"
    }
   ],
   "source": [
    "1 - validation_part/df_train.shape[0]"
   ]
  },
  {
   "cell_type": "code",
   "execution_count": 16,
   "metadata": {
    "ExecuteTime": {
     "end_time": "2019-01-20T17:26:58.363816Z",
     "start_time": "2019-01-20T17:26:58.359714Z"
    }
   },
   "outputs": [],
   "source": [
    "i_train = np.arange(0, validation_part)\n",
    "i_val = np.arange(validation_part, df_train.shape[0])\n",
    "i_test = np.arange(df_train.shape[0], df.shape[0])\n",
    "i_full_train = np.arange(0, i_val.max())"
   ]
  },
  {
   "cell_type": "markdown",
   "metadata": {},
   "source": [
    "Extract `x` and `y`:"
   ]
  },
  {
   "cell_type": "code",
   "execution_count": 17,
   "metadata": {
    "ExecuteTime": {
     "end_time": "2019-01-20T17:26:58.370370Z",
     "start_time": "2019-01-20T17:26:58.366652Z"
    }
   },
   "outputs": [],
   "source": [
    "x = df[\"dialogue\"].values\n",
    "y = df[\"genres\"].values"
   ]
  },
  {
   "cell_type": "code",
   "execution_count": 156,
   "metadata": {
    "ExecuteTime": {
     "end_time": "2019-01-23T04:30:34.994875Z",
     "start_time": "2019-01-23T04:30:34.978782Z"
    }
   },
   "outputs": [
    {
     "data": {
      "text/plain": [
       "array([list(['drama', 'romance']), list(['drama', 'romance']),\n",
       "       list(['mystery', 'romance']), list(['drama', 'fantasy']),\n",
       "       list(['drama', 'romance'])], dtype=object)"
      ]
     },
     "execution_count": 156,
     "metadata": {},
     "output_type": "execute_result"
    }
   ],
   "source": [
    "y[:5]"
   ]
  },
  {
   "cell_type": "code",
   "execution_count": 19,
   "metadata": {
    "ExecuteTime": {
     "end_time": "2019-01-20T17:26:58.384338Z",
     "start_time": "2019-01-20T17:26:58.381662Z"
    }
   },
   "outputs": [],
   "source": [
    "mlb = MultiLabelBinarizer()"
   ]
  },
  {
   "cell_type": "code",
   "execution_count": 20,
   "metadata": {
    "ExecuteTime": {
     "end_time": "2019-01-20T17:26:58.455286Z",
     "start_time": "2019-01-20T17:26:58.387052Z"
    }
   },
   "outputs": [],
   "source": [
    "yy_train = mlb.fit_transform(y[i_train])\n",
    "yy_val = mlb.transform(y[i_val])\n",
    "yy_test = mlb.transform(df_test['genres'].apply(lambda x: x.split(' ')).values)\n",
    "yy = np.vstack((yy_train, yy_val, yy_test)).astype(int)"
   ]
  },
  {
   "cell_type": "code",
   "execution_count": 21,
   "metadata": {
    "ExecuteTime": {
     "end_time": "2019-01-20T17:26:58.461834Z",
     "start_time": "2019-01-20T17:26:58.456949Z"
    }
   },
   "outputs": [
    {
     "data": {
      "text/plain": [
       "(46394, 20)"
      ]
     },
     "execution_count": 21,
     "metadata": {},
     "output_type": "execute_result"
    }
   ],
   "source": [
    "yy.shape"
   ]
  },
  {
   "cell_type": "markdown",
   "metadata": {},
   "source": [
    "---\n",
    "# Metric"
   ]
  },
  {
   "cell_type": "code",
   "execution_count": 22,
   "metadata": {
    "ExecuteTime": {
     "end_time": "2019-01-20T17:26:58.467723Z",
     "start_time": "2019-01-20T17:26:58.464460Z"
    }
   },
   "outputs": [],
   "source": [
    "def f1_scorer(estimator, x, y):\n",
    "    return f1_score(y, estimator.predict(x), average='samples')"
   ]
  },
  {
   "cell_type": "markdown",
   "metadata": {},
   "source": [
    "---\n",
    "# Models"
   ]
  },
  {
   "cell_type": "code",
   "execution_count": 35,
   "metadata": {
    "ExecuteTime": {
     "end_time": "2019-01-20T17:48:12.964231Z",
     "start_time": "2019-01-20T17:48:12.957479Z"
    }
   },
   "outputs": [],
   "source": [
    "def evaluate(estimator, features, target, val_features, val_target, param, values):\n",
    "    best_score = None\n",
    "    best_value = None\n",
    "    cv = KFold(n_splits=3, shuffle=True, random_state=42)\n",
    "    for value in p(values):\n",
    "        print(f\"{param} = {value}\")\n",
    "        estimator.set_params(**{param: value})\n",
    "        estimator.fit(features, target)\n",
    "        train_score = f1_score(target, estimator.predict(features) , average='samples')\n",
    "        print(f\"train_score = {train_score:.3f}\")\n",
    "        test_score = cross_val_score(\n",
    "            estimator, features, target, scoring=f1_scorer, cv=cv)\n",
    "        m, s = test_score.mean(), test_score.std()\n",
    "        val_score = f1_score(val_target, estimator.predict(val_features) , average='samples') \n",
    "        print(f\"cross_val test score = {m:.3f} ± {s:.3f}\")\n",
    "        print(f\"validation score = {val_score:.3f}\")\n",
    "        print()\n",
    "        if best_score is None:\n",
    "            best_score = val_score\n",
    "            best_value = value\n",
    "        elif val_score > best_score:\n",
    "            print(f\"new best! {value}\\n\")\n",
    "            best_score = val_score\n",
    "            best_value = value\n",
    "    return best_value"
   ]
  },
  {
   "cell_type": "code",
   "execution_count": 25,
   "metadata": {
    "ExecuteTime": {
     "end_time": "2019-01-20T17:36:03.792367Z",
     "start_time": "2019-01-20T17:36:03.786307Z"
    }
   },
   "outputs": [],
   "source": [
    "def make_feature(estimator, features, target, method, shape, i_train, i_test, cv):\n",
    "    result = np.zeros(shape, dtype=float)\n",
    "    for i1, i2 in p(cv.split(features[i_train], target[i_train]), total=cv.get_n_splits()):\n",
    "        estimator.fit(features[i_train][i1], target[i_train][i1])\n",
    "        result[i_train[i2]] = getattr(estimator, method)(features[i_train][i2])\n",
    "    estimator.fit(features[i_train], target[i_train])\n",
    "    result[i_test] = getattr(estimator, method)(features[i_test])\n",
    "    return result"
   ]
  },
  {
   "cell_type": "markdown",
   "metadata": {},
   "source": [
    "## Tfidf features"
   ]
  },
  {
   "cell_type": "code",
   "execution_count": 26,
   "metadata": {
    "ExecuteTime": {
     "end_time": "2019-01-20T17:36:04.579693Z",
     "start_time": "2019-01-20T17:36:04.576094Z"
    }
   },
   "outputs": [],
   "source": [
    "tfidf_30k_1_1 = TfidfVectorizer(max_features=30000, ngram_range=(1, 1))"
   ]
  },
  {
   "cell_type": "code",
   "execution_count": 27,
   "metadata": {
    "ExecuteTime": {
     "end_time": "2019-01-20T17:36:06.586987Z",
     "start_time": "2019-01-20T17:36:04.806942Z"
    }
   },
   "outputs": [],
   "source": [
    "f_tfidf_30k_1_1 = tfidf_30k_1_1.fit_transform(x)"
   ]
  },
  {
   "cell_type": "markdown",
   "metadata": {},
   "source": [
    "## Logistic regression\n",
    "\n",
    "On a Tf-Idf from text."
   ]
  },
  {
   "cell_type": "code",
   "execution_count": 28,
   "metadata": {
    "ExecuteTime": {
     "end_time": "2019-01-20T17:36:06.592167Z",
     "start_time": "2019-01-20T17:36:06.589040Z"
    }
   },
   "outputs": [],
   "source": [
    "lr = OneVsRestClassifier(LogisticRegression(random_state=43, C=5))"
   ]
  },
  {
   "cell_type": "code",
   "execution_count": null,
   "metadata": {},
   "outputs": [],
   "source": []
  },
  {
   "cell_type": "code",
   "execution_count": 29,
   "metadata": {
    "ExecuteTime": {
     "end_time": "2019-01-20T17:36:45.003779Z",
     "start_time": "2019-01-20T17:36:06.594652Z"
    }
   },
   "outputs": [
    {
     "data": {
      "application/vnd.jupyter.widget-view+json": {
       "model_id": "2414783c765c42f681e0c5151d652ae4",
       "version_major": 2,
       "version_minor": 0
      },
      "text/plain": [
       "HBox(children=(IntProgress(value=0, max=2), HTML(value='')))"
      ]
     },
     "metadata": {},
     "output_type": "display_data"
    },
    {
     "name": "stdout",
     "output_type": "stream",
     "text": [
      "estimator__penalty = l1\n",
      "train_score = 0.845\n",
      "cross_val test score = 0.612 ± 0.004\n",
      "validation score = 0.519\n",
      "estimator__penalty = l2\n",
      "train_score = 0.795\n",
      "cross_val test score = 0.600 ± 0.004\n",
      "validation score = 0.492\n",
      "\n"
     ]
    },
    {
     "data": {
      "text/plain": [
       "'l1'"
      ]
     },
     "execution_count": 29,
     "metadata": {},
     "output_type": "execute_result"
    }
   ],
   "source": [
    "evaluate(lr, features=f_tfidf_30k_1_1[i_train], target=yy[i_train],\n",
    "         val_features=f_tfidf_30k_1_1[i_val], val_target=yy[i_val], \n",
    "         param=\"estimator__penalty\", values=['l1', 'l2'])"
   ]
  },
  {
   "cell_type": "code",
   "execution_count": 30,
   "metadata": {
    "ExecuteTime": {
     "end_time": "2019-01-20T17:36:45.009594Z",
     "start_time": "2019-01-20T17:36:45.006037Z"
    }
   },
   "outputs": [],
   "source": [
    "lr.set_params(estimator__penalty='l1');"
   ]
  },
  {
   "cell_type": "code",
   "execution_count": 34,
   "metadata": {
    "ExecuteTime": {
     "end_time": "2019-01-20T17:48:12.955031Z",
     "start_time": "2019-01-20T17:43:57.506069Z"
    }
   },
   "outputs": [
    {
     "data": {
      "application/vnd.jupyter.widget-view+json": {
       "model_id": "ff5b8ce2ee694eebb2d863d8557ec1a1",
       "version_major": 2,
       "version_minor": 0
      },
      "text/plain": [
       "HBox(children=(IntProgress(value=0, max=4), HTML(value='')))"
      ]
     },
     "metadata": {},
     "output_type": "display_data"
    },
    {
     "name": "stdout",
     "output_type": "stream",
     "text": [
      "estimator__C = 0.01\n",
      "train_score = 0.252\n",
      "cross_val test score = 0.302 ± 0.001\n",
      "validation score = 0.197\n",
      "\n",
      "estimator__C = 5\n",
      "train_score = 0.845\n",
      "cross_val test score = 0.612 ± 0.004\n",
      "validation score = 0.519\n",
      "\n",
      "new best!\n",
      "estimator__C = 10\n",
      "train_score = 0.929\n",
      "cross_val test score = 0.603 ± 0.003\n",
      "validation score = 0.507\n",
      "\n",
      "estimator__C = 20\n",
      "train_score = 0.958\n",
      "cross_val test score = 0.589 ± 0.002\n",
      "validation score = 0.487\n",
      "\n",
      "\n"
     ]
    },
    {
     "data": {
      "text/plain": [
       "5"
      ]
     },
     "execution_count": 34,
     "metadata": {},
     "output_type": "execute_result"
    }
   ],
   "source": [
    "evaluate(lr, features=f_tfidf_30k_1_1[i_train], target=yy[i_train],\n",
    "         val_features=f_tfidf_30k_1_1[i_val], val_target=yy[i_val],\n",
    "         param=\"estimator__C\", values=[0.01, 5, 10, 20])"
   ]
  },
  {
   "cell_type": "code",
   "execution_count": 37,
   "metadata": {
    "ExecuteTime": {
     "end_time": "2019-01-20T17:48:55.948127Z",
     "start_time": "2019-01-20T17:48:55.942929Z"
    }
   },
   "outputs": [
    {
     "data": {
      "text/plain": [
       "OneVsRestClassifier(estimator=LogisticRegression(C=5, class_weight={0: 1, 1: 5}, dual=False,\n",
       "          fit_intercept=True, intercept_scaling=1, max_iter=100,\n",
       "          multi_class='ovr', n_jobs=1, penalty='l1', random_state=43,\n",
       "          solver='liblinear', tol=0.0001, verbose=0, warm_start=False),\n",
       "          n_jobs=1)"
      ]
     },
     "execution_count": 37,
     "metadata": {},
     "output_type": "execute_result"
    }
   ],
   "source": [
    "lr.set_params(estimator__C=5)"
   ]
  },
  {
   "cell_type": "code",
   "execution_count": 38,
   "metadata": {
    "ExecuteTime": {
     "end_time": "2019-01-20T17:51:32.832093Z",
     "start_time": "2019-01-20T17:48:56.744977Z"
    }
   },
   "outputs": [
    {
     "data": {
      "application/vnd.jupyter.widget-view+json": {
       "model_id": "21f71c06f8364c1aab08550ac437641c",
       "version_major": 2,
       "version_minor": 0
      },
      "text/plain": [
       "HBox(children=(IntProgress(value=0, max=4), HTML(value='')))"
      ]
     },
     "metadata": {},
     "output_type": "display_data"
    },
    {
     "name": "stdout",
     "output_type": "stream",
     "text": [
      "estimator__class_weight = {0: 1, 1: 5}\n",
      "train_score = 0.919\n",
      "cross_val test score = 0.640 ± 0.001\n",
      "validation score = 0.551\n",
      "\n",
      "estimator__class_weight = {0: 1, 1: 10}\n",
      "train_score = 0.906\n",
      "cross_val test score = 0.634 ± 0.001\n",
      "validation score = 0.544\n",
      "\n",
      "estimator__class_weight = {0: 1, 1: 15}\n",
      "train_score = 0.899\n",
      "cross_val test score = 0.630 ± 0.001\n",
      "validation score = 0.540\n",
      "\n",
      "estimator__class_weight = None\n",
      "train_score = 0.845\n",
      "cross_val test score = 0.612 ± 0.004\n",
      "validation score = 0.519\n",
      "\n",
      "\n"
     ]
    },
    {
     "data": {
      "text/plain": [
       "{0: 1, 1: 5}"
      ]
     },
     "execution_count": 38,
     "metadata": {},
     "output_type": "execute_result"
    }
   ],
   "source": [
    "evaluate(lr, features=f_tfidf_30k_1_1[i_train], target=yy[i_train],\n",
    "         val_features=f_tfidf_30k_1_1[i_val], val_target=yy[i_val],\n",
    "         param=\"estimator__class_weight\", values=[{0:1,1:5}, {0:1,1:10}, {0:1,1:15}, None])"
   ]
  },
  {
   "cell_type": "code",
   "execution_count": 39,
   "metadata": {
    "ExecuteTime": {
     "end_time": "2019-01-20T18:44:18.537180Z",
     "start_time": "2019-01-20T18:44:18.531834Z"
    }
   },
   "outputs": [
    {
     "data": {
      "text/plain": [
       "OneVsRestClassifier(estimator=LogisticRegression(C=5, class_weight={0: 1, 1: 5}, dual=False,\n",
       "          fit_intercept=True, intercept_scaling=1, max_iter=100,\n",
       "          multi_class='ovr', n_jobs=1, penalty='l1', random_state=43,\n",
       "          solver='liblinear', tol=0.0001, verbose=0, warm_start=False),\n",
       "          n_jobs=1)"
      ]
     },
     "execution_count": 39,
     "metadata": {},
     "output_type": "execute_result"
    }
   ],
   "source": [
    "lr.set_params(estimator__class_weight={0:1, 1:5})"
   ]
  },
  {
   "cell_type": "code",
   "execution_count": null,
   "metadata": {},
   "outputs": [],
   "source": []
  },
  {
   "cell_type": "code",
   "execution_count": null,
   "metadata": {},
   "outputs": [],
   "source": []
  },
  {
   "cell_type": "code",
   "execution_count": null,
   "metadata": {},
   "outputs": [],
   "source": []
  },
  {
   "cell_type": "markdown",
   "metadata": {},
   "source": [
    "## Tfidf features on preprocessed data"
   ]
  },
  {
   "cell_type": "code",
   "execution_count": 40,
   "metadata": {
    "ExecuteTime": {
     "end_time": "2019-01-20T18:44:25.883582Z",
     "start_time": "2019-01-20T18:44:25.879750Z"
    }
   },
   "outputs": [],
   "source": [
    "tokenizer = TweetTokenizer(reduce_len=True)\n",
    "\n",
    "def preprocessor(row):\n",
    "    row = re.sub('<BR>|<u>|</u>', '', row)\n",
    "    row = tokenizer.tokenize(row)\n",
    "    row = ' '.join(row)\n",
    "    return row"
   ]
  },
  {
   "cell_type": "code",
   "execution_count": 41,
   "metadata": {
    "ExecuteTime": {
     "end_time": "2019-01-20T18:44:32.854362Z",
     "start_time": "2019-01-20T18:44:26.213130Z"
    },
    "scrolled": true
   },
   "outputs": [],
   "source": [
    "x_preprocessed = df[\"dialogue\"].apply(lambda x: preprocessor(x)).values"
   ]
  },
  {
   "cell_type": "code",
   "execution_count": 42,
   "metadata": {
    "ExecuteTime": {
     "end_time": "2019-01-20T18:44:32.861385Z",
     "start_time": "2019-01-20T18:44:32.856812Z"
    }
   },
   "outputs": [
    {
     "data": {
      "text/plain": [
       "'I thought you were in a meeting--? <BR> I am.  With you.'"
      ]
     },
     "execution_count": 42,
     "metadata": {},
     "output_type": "execute_result"
    }
   ],
   "source": [
    "x[0]"
   ]
  },
  {
   "cell_type": "code",
   "execution_count": 43,
   "metadata": {
    "ExecuteTime": {
     "end_time": "2019-01-20T18:44:32.868585Z",
     "start_time": "2019-01-20T18:44:32.863864Z"
    }
   },
   "outputs": [
    {
     "data": {
      "text/plain": [
       "'I thought you were in a meeting - - ? I am . With you .'"
      ]
     },
     "execution_count": 43,
     "metadata": {},
     "output_type": "execute_result"
    }
   ],
   "source": [
    "x_preprocessed[0]"
   ]
  },
  {
   "cell_type": "code",
   "execution_count": 44,
   "metadata": {
    "ExecuteTime": {
     "end_time": "2019-01-20T18:44:32.874301Z",
     "start_time": "2019-01-20T18:44:32.871336Z"
    }
   },
   "outputs": [],
   "source": [
    "tfidf_10k_1_1_v2 = TfidfVectorizer(max_features=10000, ngram_range=(1, 1))"
   ]
  },
  {
   "cell_type": "code",
   "execution_count": 45,
   "metadata": {
    "ExecuteTime": {
     "end_time": "2019-01-20T18:44:34.372164Z",
     "start_time": "2019-01-20T18:44:32.876860Z"
    }
   },
   "outputs": [],
   "source": [
    "f_tfidf_10k_1_1_v2 = tfidf_10k_1_1_v2.fit_transform(x_preprocessed)"
   ]
  },
  {
   "cell_type": "markdown",
   "metadata": {},
   "source": [
    "## Logistic regression v.2\n",
    "\n",
    "Tf-Idf on preprocessed text."
   ]
  },
  {
   "cell_type": "code",
   "execution_count": 46,
   "metadata": {
    "ExecuteTime": {
     "end_time": "2019-01-20T18:45:39.506857Z",
     "start_time": "2019-01-20T18:45:39.504303Z"
    }
   },
   "outputs": [],
   "source": [
    "lr_v2 = OneVsRestClassifier(LogisticRegression(random_state=43, C=3))"
   ]
  },
  {
   "cell_type": "code",
   "execution_count": null,
   "metadata": {},
   "outputs": [],
   "source": []
  },
  {
   "cell_type": "code",
   "execution_count": 48,
   "metadata": {
    "ExecuteTime": {
     "end_time": "2019-01-20T18:46:52.549959Z",
     "start_time": "2019-01-20T18:46:26.475556Z"
    }
   },
   "outputs": [
    {
     "data": {
      "application/vnd.jupyter.widget-view+json": {
       "model_id": "ef375d71191d424a99b772ded75fb00d",
       "version_major": 2,
       "version_minor": 0
      },
      "text/plain": [
       "HBox(children=(IntProgress(value=0, max=2), HTML(value='')))"
      ]
     },
     "metadata": {},
     "output_type": "display_data"
    },
    {
     "name": "stdout",
     "output_type": "stream",
     "text": [
      "estimator__penalty = l1\n",
      "train_score = 0.753\n",
      "cross_val test score = 0.614 ± 0.003\n",
      "validation score = 0.523\n",
      "\n",
      "estimator__penalty = l2\n",
      "train_score = 0.727\n",
      "cross_val test score = 0.594 ± 0.004\n",
      "validation score = 0.496\n",
      "\n"
     ]
    },
    {
     "data": {
      "text/plain": [
       "'l1'"
      ]
     },
     "execution_count": 48,
     "metadata": {},
     "output_type": "execute_result"
    }
   ],
   "source": [
    "evaluate(lr_v2, features=f_tfidf_10k_1_1_v2[i_train], target=yy[i_train],\n",
    "         val_features=f_tfidf_10k_1_1_v2[i_val], val_target=yy[i_val],\n",
    "         param=\"estimator__penalty\", values=['l1', 'l2'])"
   ]
  },
  {
   "cell_type": "code",
   "execution_count": 49,
   "metadata": {
    "ExecuteTime": {
     "end_time": "2019-01-20T18:47:21.353075Z",
     "start_time": "2019-01-20T18:47:21.349174Z"
    }
   },
   "outputs": [],
   "source": [
    "lr_v2.set_params(estimator__penalty='l1');"
   ]
  },
  {
   "cell_type": "code",
   "execution_count": 50,
   "metadata": {
    "ExecuteTime": {
     "end_time": "2019-01-20T18:49:36.194012Z",
     "start_time": "2019-01-20T18:48:01.222216Z"
    }
   },
   "outputs": [
    {
     "data": {
      "application/vnd.jupyter.widget-view+json": {
       "model_id": "ac1605e488b9468ba8c6c175e4cb2fdf",
       "version_major": 2,
       "version_minor": 0
      },
      "text/plain": [
       "HBox(children=(IntProgress(value=0, max=5), HTML(value='')))"
      ]
     },
     "metadata": {},
     "output_type": "display_data"
    },
    {
     "name": "stdout",
     "output_type": "stream",
     "text": [
      "estimator__C = 3\n",
      "train_score = 0.753\n",
      "cross_val test score = 0.614 ± 0.003\n",
      "validation score = 0.523\n",
      "\n",
      "estimator__C = 3.5\n",
      "train_score = 0.769\n",
      "cross_val test score = 0.615 ± 0.004\n",
      "validation score = 0.523\n",
      "\n",
      "new best! 3.5\n",
      "\n",
      "estimator__C = 4\n",
      "train_score = 0.783\n",
      "cross_val test score = 0.615 ± 0.003\n",
      "validation score = 0.523\n",
      "\n",
      "estimator__C = 4.5\n",
      "train_score = 0.796\n",
      "cross_val test score = 0.614 ± 0.003\n",
      "validation score = 0.524\n",
      "\n",
      "new best! 4.5\n",
      "\n",
      "estimator__C = 5\n",
      "train_score = 0.807\n",
      "cross_val test score = 0.614 ± 0.003\n",
      "validation score = 0.521\n",
      "\n"
     ]
    },
    {
     "data": {
      "text/plain": [
       "4.5"
      ]
     },
     "execution_count": 50,
     "metadata": {},
     "output_type": "execute_result"
    }
   ],
   "source": [
    "evaluate(lr_v2, features=f_tfidf_10k_1_1_v2[i_train], target=yy[i_train],\n",
    "         val_features=f_tfidf_10k_1_1_v2[i_val], val_target=yy[i_val],\n",
    "         param=\"estimator__C\", values=[3, 3.5, 4, 4.5, 5])"
   ]
  },
  {
   "cell_type": "code",
   "execution_count": 51,
   "metadata": {
    "ExecuteTime": {
     "end_time": "2019-01-20T18:49:36.201262Z",
     "start_time": "2019-01-20T18:49:36.196135Z"
    }
   },
   "outputs": [
    {
     "data": {
      "text/plain": [
       "OneVsRestClassifier(estimator=LogisticRegression(C=3.5, class_weight=None, dual=False, fit_intercept=True,\n",
       "          intercept_scaling=1, max_iter=100, multi_class='ovr', n_jobs=1,\n",
       "          penalty='l1', random_state=43, solver='liblinear', tol=0.0001,\n",
       "          verbose=0, warm_start=False),\n",
       "          n_jobs=1)"
      ]
     },
     "execution_count": 51,
     "metadata": {},
     "output_type": "execute_result"
    }
   ],
   "source": [
    "lr_v2.set_params(estimator__C=3.5)"
   ]
  },
  {
   "cell_type": "code",
   "execution_count": 52,
   "metadata": {
    "ExecuteTime": {
     "end_time": "2019-01-20T18:53:05.234935Z",
     "start_time": "2019-01-20T18:49:36.204512Z"
    }
   },
   "outputs": [
    {
     "data": {
      "application/vnd.jupyter.widget-view+json": {
       "model_id": "d9f8918a8dd24a15923467749f3293f8",
       "version_major": 2,
       "version_minor": 0
      },
      "text/plain": [
       "HBox(children=(IntProgress(value=0, max=5), HTML(value='')))"
      ]
     },
     "metadata": {},
     "output_type": "display_data"
    },
    {
     "name": "stdout",
     "output_type": "stream",
     "text": [
      "estimator__class_weight = {0: 1, 1: 5}\n",
      "train_score = 0.858\n",
      "cross_val test score = 0.642 ± 0.002\n",
      "validation score = 0.555\n",
      "\n",
      "estimator__class_weight = {0: 1, 1: 10}\n",
      "train_score = 0.835\n",
      "cross_val test score = 0.630 ± 0.002\n",
      "validation score = 0.542\n",
      "\n",
      "estimator__class_weight = {0: 1, 1: 15}\n",
      "train_score = 0.822\n",
      "cross_val test score = 0.623 ± 0.002\n",
      "validation score = 0.533\n",
      "\n",
      "estimator__class_weight = None\n",
      "train_score = 0.769\n",
      "cross_val test score = 0.615 ± 0.004\n",
      "validation score = 0.523\n",
      "\n",
      "estimator__class_weight = balanced\n",
      "train_score = 0.808\n",
      "cross_val test score = 0.620 ± 0.002\n",
      "validation score = 0.543\n",
      "\n"
     ]
    },
    {
     "data": {
      "text/plain": [
       "{0: 1, 1: 5}"
      ]
     },
     "execution_count": 52,
     "metadata": {},
     "output_type": "execute_result"
    }
   ],
   "source": [
    "evaluate(lr_v2, features=f_tfidf_10k_1_1_v2[i_train], target=yy[i_train],\n",
    "         val_features=f_tfidf_10k_1_1_v2[i_val], val_target=yy[i_val],\n",
    "         param=\"estimator__class_weight\", values=[{0:1,1:5}, {0:1,1:10}, {0:1,1:15}, None, 'balanced'])"
   ]
  },
  {
   "cell_type": "code",
   "execution_count": 53,
   "metadata": {
    "ExecuteTime": {
     "end_time": "2019-01-20T18:53:05.251839Z",
     "start_time": "2019-01-20T18:53:05.240281Z"
    },
    "scrolled": true
   },
   "outputs": [
    {
     "data": {
      "text/plain": [
       "OneVsRestClassifier(estimator=LogisticRegression(C=3.5, class_weight={0: 1, 1: 5}, dual=False,\n",
       "          fit_intercept=True, intercept_scaling=1, max_iter=100,\n",
       "          multi_class='ovr', n_jobs=1, penalty='l1', random_state=43,\n",
       "          solver='liblinear', tol=0.0001, verbose=0, warm_start=False),\n",
       "          n_jobs=1)"
      ]
     },
     "execution_count": 53,
     "metadata": {},
     "output_type": "execute_result"
    }
   ],
   "source": [
    "lr_v2.set_params(estimator__class_weight={0:1, 1:5})"
   ]
  },
  {
   "cell_type": "code",
   "execution_count": null,
   "metadata": {},
   "outputs": [],
   "source": []
  },
  {
   "cell_type": "code",
   "execution_count": null,
   "metadata": {},
   "outputs": [],
   "source": []
  },
  {
   "cell_type": "code",
   "execution_count": null,
   "metadata": {},
   "outputs": [],
   "source": []
  },
  {
   "cell_type": "code",
   "execution_count": null,
   "metadata": {},
   "outputs": [],
   "source": []
  },
  {
   "cell_type": "code",
   "execution_count": null,
   "metadata": {},
   "outputs": [],
   "source": []
  },
  {
   "cell_type": "markdown",
   "metadata": {},
   "source": [
    "## Linear SVC\n",
    "\n",
    "On a Tf-Idf from text."
   ]
  },
  {
   "cell_type": "code",
   "execution_count": 54,
   "metadata": {
    "ExecuteTime": {
     "end_time": "2019-01-20T18:53:05.264804Z",
     "start_time": "2019-01-20T18:53:05.257874Z"
    }
   },
   "outputs": [],
   "source": [
    "svm = OneVsRestClassifier(LinearSVC(random_state=43, C=5, dual=False))"
   ]
  },
  {
   "cell_type": "code",
   "execution_count": 55,
   "metadata": {
    "ExecuteTime": {
     "end_time": "2019-01-20T18:58:02.929855Z",
     "start_time": "2019-01-20T18:53:05.268926Z"
    }
   },
   "outputs": [
    {
     "data": {
      "application/vnd.jupyter.widget-view+json": {
       "model_id": "a61b756766bb4b2ea0b3784e81e04a91",
       "version_major": 2,
       "version_minor": 0
      },
      "text/plain": [
       "HBox(children=(IntProgress(value=0, max=2), HTML(value='')))"
      ]
     },
     "metadata": {},
     "output_type": "display_data"
    },
    {
     "name": "stdout",
     "output_type": "stream",
     "text": [
      "estimator__penalty = l1\n",
      "train_score = 0.954\n",
      "cross_val test score = 0.585 ± 0.001\n",
      "validation score = 0.483\n",
      "\n",
      "estimator__penalty = l2\n",
      "train_score = 0.942\n",
      "cross_val test score = 0.600 ± 0.002\n",
      "validation score = 0.492\n",
      "\n",
      "new best! l2\n",
      "\n"
     ]
    },
    {
     "data": {
      "text/plain": [
       "'l2'"
      ]
     },
     "execution_count": 55,
     "metadata": {},
     "output_type": "execute_result"
    }
   ],
   "source": [
    "evaluate(svm, features=f_tfidf_30k_1_1[i_train], target=yy[i_train],\n",
    "         val_features=f_tfidf_30k_1_1[i_val], val_target=yy[i_val],\n",
    "         param=\"estimator__penalty\", values=['l1', 'l2'])"
   ]
  },
  {
   "cell_type": "code",
   "execution_count": 56,
   "metadata": {
    "ExecuteTime": {
     "end_time": "2019-01-20T18:58:56.345038Z",
     "start_time": "2019-01-20T18:58:02.932071Z"
    }
   },
   "outputs": [
    {
     "data": {
      "application/vnd.jupyter.widget-view+json": {
       "model_id": "089ac2d8dbb4424498214239a7a982f4",
       "version_major": 2,
       "version_minor": 0
      },
      "text/plain": [
       "HBox(children=(IntProgress(value=0, max=2), HTML(value='')))"
      ]
     },
     "metadata": {},
     "output_type": "display_data"
    },
    {
     "name": "stdout",
     "output_type": "stream",
     "text": [
      "estimator__loss = hinge\n",
      "train_score = 0.893\n",
      "cross_val test score = 0.615 ± 0.003\n",
      "validation score = 0.512\n",
      "\n",
      "estimator__loss = squared_hinge\n",
      "train_score = 0.942\n",
      "cross_val test score = 0.600 ± 0.002\n",
      "validation score = 0.492\n",
      "\n"
     ]
    },
    {
     "data": {
      "text/plain": [
       "'hinge'"
      ]
     },
     "execution_count": 56,
     "metadata": {},
     "output_type": "execute_result"
    }
   ],
   "source": [
    "svm = OneVsRestClassifier(LinearSVC(random_state=43, C=5))\n",
    "evaluate(svm, features=f_tfidf_30k_1_1[i_train], target=yy[i_train],\n",
    "         val_features=f_tfidf_30k_1_1[i_val], val_target=yy[i_val],\n",
    "         param=\"estimator__loss\", values=['hinge', 'squared_hinge'])"
   ]
  },
  {
   "cell_type": "code",
   "execution_count": 57,
   "metadata": {
    "ExecuteTime": {
     "end_time": "2019-01-20T18:58:56.350062Z",
     "start_time": "2019-01-20T18:58:56.346890Z"
    }
   },
   "outputs": [],
   "source": [
    "svm.set_params(estimator__penalty='l2', estimator__loss='hinge');"
   ]
  },
  {
   "cell_type": "code",
   "execution_count": 58,
   "metadata": {
    "ExecuteTime": {
     "end_time": "2019-01-20T19:01:09.915775Z",
     "start_time": "2019-01-20T18:58:56.352469Z"
    }
   },
   "outputs": [
    {
     "data": {
      "application/vnd.jupyter.widget-view+json": {
       "model_id": "b5d1178d4e4f49e0ac85478811c6c851",
       "version_major": 2,
       "version_minor": 0
      },
      "text/plain": [
       "HBox(children=(IntProgress(value=0, max=5), HTML(value='')))"
      ]
     },
     "metadata": {},
     "output_type": "display_data"
    },
    {
     "name": "stdout",
     "output_type": "stream",
     "text": [
      "estimator__C = 2.5\n",
      "train_score = 0.845\n",
      "cross_val test score = 0.619 ± 0.005\n",
      "validation score = 0.512\n",
      "\n",
      "estimator__C = 3\n",
      "train_score = 0.860\n",
      "cross_val test score = 0.619 ± 0.004\n",
      "validation score = 0.514\n",
      "\n",
      "new best! 3\n",
      "\n",
      "estimator__C = 3.5\n",
      "train_score = 0.871\n",
      "cross_val test score = 0.619 ± 0.005\n",
      "validation score = 0.515\n",
      "\n",
      "new best! 3.5\n",
      "\n",
      "estimator__C = 4\n",
      "train_score = 0.880\n",
      "cross_val test score = 0.618 ± 0.004\n",
      "validation score = 0.513\n",
      "\n",
      "estimator__C = 4.5\n",
      "train_score = 0.887\n",
      "cross_val test score = 0.616 ± 0.003\n",
      "validation score = 0.512\n",
      "\n"
     ]
    },
    {
     "data": {
      "text/plain": [
       "3.5"
      ]
     },
     "execution_count": 58,
     "metadata": {},
     "output_type": "execute_result"
    }
   ],
   "source": [
    "evaluate(svm, features=f_tfidf_30k_1_1[i_train], target=yy[i_train],\n",
    "         val_features=f_tfidf_30k_1_1[i_val], val_target=yy[i_val],\n",
    "         param=\"estimator__C\", values=[2.5, 3, 3.5, 4, 4.5])"
   ]
  },
  {
   "cell_type": "code",
   "execution_count": 59,
   "metadata": {
    "ExecuteTime": {
     "end_time": "2019-01-20T19:01:09.923616Z",
     "start_time": "2019-01-20T19:01:09.917725Z"
    }
   },
   "outputs": [
    {
     "data": {
      "text/plain": [
       "OneVsRestClassifier(estimator=LinearSVC(C=3, class_weight=None, dual=True, fit_intercept=True,\n",
       "     intercept_scaling=1, loss='hinge', max_iter=1000, multi_class='ovr',\n",
       "     penalty='l2', random_state=43, tol=0.0001, verbose=0),\n",
       "          n_jobs=1)"
      ]
     },
     "execution_count": 59,
     "metadata": {},
     "output_type": "execute_result"
    }
   ],
   "source": [
    "svm.set_params(estimator__C=3)"
   ]
  },
  {
   "cell_type": "code",
   "execution_count": 60,
   "metadata": {
    "ExecuteTime": {
     "end_time": "2019-01-20T19:02:34.483410Z",
     "start_time": "2019-01-20T19:01:09.926178Z"
    }
   },
   "outputs": [
    {
     "data": {
      "application/vnd.jupyter.widget-view+json": {
       "model_id": "85a3ce51ec364a63b360f05b53a71277",
       "version_major": 2,
       "version_minor": 0
      },
      "text/plain": [
       "HBox(children=(IntProgress(value=0, max=3), HTML(value='')))"
      ]
     },
     "metadata": {},
     "output_type": "display_data"
    },
    {
     "name": "stdout",
     "output_type": "stream",
     "text": [
      "estimator__class_weight = {0: 1, 1: 1.5}\n",
      "train_score = 0.894\n",
      "cross_val test score = 0.637 ± 0.002\n",
      "validation score = 0.538\n",
      "\n",
      "estimator__class_weight = {0: 1, 1: 2}\n",
      "train_score = 0.903\n",
      "cross_val test score = 0.640 ± 0.002\n",
      "validation score = 0.545\n",
      "\n",
      "new best! {0: 1, 1: 2}\n",
      "\n",
      "estimator__class_weight = None\n",
      "train_score = 0.860\n",
      "cross_val test score = 0.619 ± 0.004\n",
      "validation score = 0.514\n",
      "\n"
     ]
    },
    {
     "data": {
      "text/plain": [
       "{0: 1, 1: 2}"
      ]
     },
     "execution_count": 60,
     "metadata": {},
     "output_type": "execute_result"
    }
   ],
   "source": [
    "evaluate(svm, features=f_tfidf_30k_1_1[i_train], target=yy[i_train],\n",
    "         val_features=f_tfidf_30k_1_1[i_val], val_target=yy[i_val],\n",
    "         param=\"estimator__class_weight\", values=[{0:1,1:1.5}, {0:1,1:2}, None])"
   ]
  },
  {
   "cell_type": "code",
   "execution_count": 61,
   "metadata": {
    "ExecuteTime": {
     "end_time": "2019-01-20T19:02:34.490837Z",
     "start_time": "2019-01-20T19:02:34.485531Z"
    }
   },
   "outputs": [
    {
     "data": {
      "text/plain": [
       "OneVsRestClassifier(estimator=LinearSVC(C=3, class_weight={0: 1, 1: 1.5}, dual=True, fit_intercept=True,\n",
       "     intercept_scaling=1, loss='hinge', max_iter=1000, multi_class='ovr',\n",
       "     penalty='l2', random_state=43, tol=0.0001, verbose=0),\n",
       "          n_jobs=1)"
      ]
     },
     "execution_count": 61,
     "metadata": {},
     "output_type": "execute_result"
    }
   ],
   "source": [
    "svm.set_params(estimator__class_weight={0:1, 1:1.5})"
   ]
  },
  {
   "cell_type": "code",
   "execution_count": null,
   "metadata": {},
   "outputs": [],
   "source": []
  },
  {
   "cell_type": "code",
   "execution_count": null,
   "metadata": {},
   "outputs": [],
   "source": []
  },
  {
   "cell_type": "code",
   "execution_count": null,
   "metadata": {},
   "outputs": [],
   "source": []
  },
  {
   "cell_type": "markdown",
   "metadata": {},
   "source": [
    "## Linear SVC v.2\n",
    "\n",
    "Tf-Idf on preprocessed text."
   ]
  },
  {
   "cell_type": "code",
   "execution_count": 63,
   "metadata": {
    "ExecuteTime": {
     "end_time": "2019-01-20T19:08:20.667061Z",
     "start_time": "2019-01-20T19:07:36.265062Z"
    }
   },
   "outputs": [
    {
     "data": {
      "application/vnd.jupyter.widget-view+json": {
       "model_id": "53239a3d0bc54892bd6dca75ba2dc2ec",
       "version_major": 2,
       "version_minor": 0
      },
      "text/plain": [
       "HBox(children=(IntProgress(value=0, max=2), HTML(value='')))"
      ]
     },
     "metadata": {},
     "output_type": "display_data"
    },
    {
     "name": "stdout",
     "output_type": "stream",
     "text": [
      "estimator__loss = hinge\n",
      "train_score = 0.835\n",
      "cross_val test score = 0.612 ± 0.004\n",
      "validation score = 0.520\n",
      "\n",
      "estimator__loss = squared_hinge\n",
      "train_score = 0.885\n",
      "cross_val test score = 0.594 ± 0.003\n",
      "validation score = 0.500\n",
      "\n"
     ]
    },
    {
     "data": {
      "text/plain": [
       "'hinge'"
      ]
     },
     "execution_count": 63,
     "metadata": {},
     "output_type": "execute_result"
    }
   ],
   "source": [
    "svm_v2 = OneVsRestClassifier(LinearSVC(random_state=43, C=5))\n",
    "evaluate(svm_v2, features=f_tfidf_10k_1_1_v2[i_train], target=yy[i_train],\n",
    "         val_features=f_tfidf_10k_1_1_v2[i_val], val_target=yy[i_val],\n",
    "         param=\"estimator__loss\", values=['hinge', 'squared_hinge'])"
   ]
  },
  {
   "cell_type": "code",
   "execution_count": 64,
   "metadata": {
    "ExecuteTime": {
     "end_time": "2019-01-20T19:11:42.197449Z",
     "start_time": "2019-01-20T19:08:20.669333Z"
    }
   },
   "outputs": [
    {
     "data": {
      "application/vnd.jupyter.widget-view+json": {
       "model_id": "848e79509836484ea2e2315648901ce4",
       "version_major": 2,
       "version_minor": 0
      },
      "text/plain": [
       "HBox(children=(IntProgress(value=0, max=2), HTML(value='')))"
      ]
     },
     "metadata": {},
     "output_type": "display_data"
    },
    {
     "name": "stdout",
     "output_type": "stream",
     "text": [
      "estimator__penalty = l1\n",
      "train_score = 0.904\n",
      "cross_val test score = 0.578 ± 0.003\n",
      "validation score = 0.484\n",
      "\n",
      "estimator__penalty = l2\n",
      "train_score = 0.885\n",
      "cross_val test score = 0.594 ± 0.003\n",
      "validation score = 0.500\n",
      "\n",
      "new best! l2\n",
      "\n"
     ]
    },
    {
     "data": {
      "text/plain": [
       "'l2'"
      ]
     },
     "execution_count": 64,
     "metadata": {},
     "output_type": "execute_result"
    }
   ],
   "source": [
    "svm_v2 = OneVsRestClassifier(LinearSVC(random_state=43, C=5, dual=False))\n",
    "evaluate(svm_v2, features=f_tfidf_10k_1_1_v2[i_train], target=yy[i_train],\n",
    "         val_features=f_tfidf_10k_1_1_v2[i_val], val_target=yy[i_val],\n",
    "         param=\"estimator__penalty\", values=['l1', 'l2'])"
   ]
  },
  {
   "cell_type": "code",
   "execution_count": 65,
   "metadata": {
    "ExecuteTime": {
     "end_time": "2019-01-20T19:11:42.203943Z",
     "start_time": "2019-01-20T19:11:42.199917Z"
    }
   },
   "outputs": [],
   "source": [
    "svm_v2.set_params(estimator__loss='hinge', estimator__penalty='l2', estimator__dual=True);"
   ]
  },
  {
   "cell_type": "code",
   "execution_count": null,
   "metadata": {},
   "outputs": [],
   "source": []
  },
  {
   "cell_type": "code",
   "execution_count": 66,
   "metadata": {
    "ExecuteTime": {
     "end_time": "2019-01-20T19:13:28.160685Z",
     "start_time": "2019-01-20T19:11:42.207760Z"
    }
   },
   "outputs": [
    {
     "data": {
      "application/vnd.jupyter.widget-view+json": {
       "model_id": "9f50512fe81749d6ae8f64b2ca6edf93",
       "version_major": 2,
       "version_minor": 0
      },
      "text/plain": [
       "HBox(children=(IntProgress(value=0, max=5), HTML(value='')))"
      ]
     },
     "metadata": {},
     "output_type": "display_data"
    },
    {
     "name": "stdout",
     "output_type": "stream",
     "text": [
      "estimator__C = 2.5\n",
      "train_score = 0.794\n",
      "cross_val test score = 0.616 ± 0.004\n",
      "validation score = 0.521\n",
      "\n",
      "estimator__C = 3\n",
      "train_score = 0.806\n",
      "cross_val test score = 0.616 ± 0.004\n",
      "validation score = 0.521\n",
      "\n",
      "new best! 3\n",
      "\n",
      "estimator__C = 3.5\n",
      "train_score = 0.815\n",
      "cross_val test score = 0.616 ± 0.005\n",
      "validation score = 0.522\n",
      "\n",
      "new best! 3.5\n",
      "\n",
      "estimator__C = 4\n",
      "train_score = 0.823\n",
      "cross_val test score = 0.614 ± 0.004\n",
      "validation score = 0.520\n",
      "\n",
      "estimator__C = 4.5\n",
      "train_score = 0.830\n",
      "cross_val test score = 0.613 ± 0.004\n",
      "validation score = 0.519\n",
      "\n"
     ]
    },
    {
     "data": {
      "text/plain": [
       "3.5"
      ]
     },
     "execution_count": 66,
     "metadata": {},
     "output_type": "execute_result"
    }
   ],
   "source": [
    "evaluate(svm_v2, features=f_tfidf_10k_1_1_v2[i_train], target=yy[i_train],\n",
    "         val_features=f_tfidf_10k_1_1_v2[i_val], val_target=yy[i_val],\n",
    "         param=\"estimator__C\", values=[2.5, 3, 3.5, 4, 4.5])"
   ]
  },
  {
   "cell_type": "code",
   "execution_count": 67,
   "metadata": {
    "ExecuteTime": {
     "end_time": "2019-01-20T19:13:28.168109Z",
     "start_time": "2019-01-20T19:13:28.162745Z"
    }
   },
   "outputs": [
    {
     "data": {
      "text/plain": [
       "OneVsRestClassifier(estimator=LinearSVC(C=3, class_weight=None, dual=True, fit_intercept=True,\n",
       "     intercept_scaling=1, loss='hinge', max_iter=1000, multi_class='ovr',\n",
       "     penalty='l2', random_state=43, tol=0.0001, verbose=0),\n",
       "          n_jobs=1)"
      ]
     },
     "execution_count": 67,
     "metadata": {},
     "output_type": "execute_result"
    }
   ],
   "source": [
    "svm_v2.set_params(estimator__C=3)"
   ]
  },
  {
   "cell_type": "code",
   "execution_count": 68,
   "metadata": {
    "ExecuteTime": {
     "end_time": "2019-01-20T19:16:50.730004Z",
     "start_time": "2019-01-20T19:13:28.169972Z"
    }
   },
   "outputs": [
    {
     "data": {
      "application/vnd.jupyter.widget-view+json": {
       "model_id": "5f4aa56215d34051833d3becf8bbb402",
       "version_major": 2,
       "version_minor": 0
      },
      "text/plain": [
       "HBox(children=(IntProgress(value=0, max=8), HTML(value='')))"
      ]
     },
     "metadata": {},
     "output_type": "display_data"
    },
    {
     "name": "stdout",
     "output_type": "stream",
     "text": [
      "estimator__class_weight = {0: 1, 1: 1.5}\n",
      "train_score = 0.847\n",
      "cross_val test score = 0.638 ± 0.001\n",
      "validation score = 0.549\n",
      "\n",
      "estimator__class_weight = {0: 1, 1: 2}\n",
      "train_score = 0.859\n",
      "cross_val test score = 0.641 ± 0.002\n",
      "validation score = 0.558\n",
      "\n",
      "new best! {0: 1, 1: 2}\n",
      "\n",
      "estimator__class_weight = {0: 1, 1: 2.5}\n",
      "train_score = 0.861\n",
      "cross_val test score = 0.640 ± 0.002\n",
      "validation score = 0.555\n",
      "\n",
      "estimator__class_weight = {0: 1, 1: 3}\n",
      "train_score = 0.859\n",
      "cross_val test score = 0.637 ± 0.001\n",
      "validation score = 0.554\n",
      "\n",
      "estimator__class_weight = {0: 1, 1: 3.5}\n",
      "train_score = 0.856\n",
      "cross_val test score = 0.635 ± 0.002\n",
      "validation score = 0.551\n",
      "\n",
      "estimator__class_weight = {0: 1, 1: 4}\n",
      "train_score = 0.852\n",
      "cross_val test score = 0.632 ± 0.002\n",
      "validation score = 0.548\n",
      "\n",
      "estimator__class_weight = None\n",
      "train_score = 0.806\n",
      "cross_val test score = 0.616 ± 0.004\n",
      "validation score = 0.521\n",
      "\n",
      "estimator__class_weight = balanced\n",
      "train_score = 0.818\n",
      "cross_val test score = 0.616 ± 0.001\n",
      "validation score = 0.535\n",
      "\n"
     ]
    },
    {
     "data": {
      "text/plain": [
       "{0: 1, 1: 2}"
      ]
     },
     "execution_count": 68,
     "metadata": {},
     "output_type": "execute_result"
    }
   ],
   "source": [
    "evaluate(svm_v2, features=f_tfidf_10k_1_1_v2[i_train], target=yy[i_train],\n",
    "         val_features=f_tfidf_10k_1_1_v2[i_val], val_target=yy[i_val],\n",
    "         param=\"estimator__class_weight\", values=[{0:1,1:1.5}, {0:1,1:2},\n",
    "                                                  {0:1,1:2.5}, {0:1,1:3},\n",
    "                                                  {0:1,1:3.5}, {0:1,1:4},\n",
    "                                                  None, 'balanced'])"
   ]
  },
  {
   "cell_type": "code",
   "execution_count": 69,
   "metadata": {
    "ExecuteTime": {
     "end_time": "2019-01-20T19:16:50.741973Z",
     "start_time": "2019-01-20T19:16:50.734250Z"
    },
    "scrolled": true
   },
   "outputs": [
    {
     "data": {
      "text/plain": [
       "OneVsRestClassifier(estimator=LogisticRegression(C=3.5, class_weight={0: 1, 1: 1.5}, dual=False,\n",
       "          fit_intercept=True, intercept_scaling=1, max_iter=100,\n",
       "          multi_class='ovr', n_jobs=1, penalty='l1', random_state=43,\n",
       "          solver='liblinear', tol=0.0001, verbose=0, warm_start=False),\n",
       "          n_jobs=1)"
      ]
     },
     "execution_count": 69,
     "metadata": {},
     "output_type": "execute_result"
    }
   ],
   "source": [
    "lr_v2.set_params(estimator__class_weight={0:1, 1:1.5})"
   ]
  },
  {
   "cell_type": "code",
   "execution_count": null,
   "metadata": {},
   "outputs": [],
   "source": []
  },
  {
   "cell_type": "code",
   "execution_count": null,
   "metadata": {},
   "outputs": [],
   "source": []
  },
  {
   "cell_type": "markdown",
   "metadata": {},
   "source": [
    "# Meta-feature."
   ]
  },
  {
   "cell_type": "code",
   "execution_count": 70,
   "metadata": {
    "ExecuteTime": {
     "end_time": "2019-01-20T19:16:50.749630Z",
     "start_time": "2019-01-20T19:16:50.744415Z"
    }
   },
   "outputs": [],
   "source": [
    "cv = KFold(n_splits=10, random_state=42, shuffle=True)"
   ]
  },
  {
   "cell_type": "code",
   "execution_count": 72,
   "metadata": {
    "ExecuteTime": {
     "end_time": "2019-01-20T19:36:52.796489Z",
     "start_time": "2019-01-20T19:16:50.757908Z"
    }
   },
   "outputs": [
    {
     "data": {
      "application/vnd.jupyter.widget-view+json": {
       "model_id": "e2697b77f75545579c76436267189e95",
       "version_major": 2,
       "version_minor": 0
      },
      "text/plain": [
       "HBox(children=(IntProgress(value=0, max=10), HTML(value='')))"
      ]
     },
     "metadata": {},
     "output_type": "display_data"
    },
    {
     "data": {
      "application/vnd.jupyter.widget-view+json": {
       "model_id": "505263a2f56347a59ca13b6bbc48e5ba",
       "version_major": 2,
       "version_minor": 0
      },
      "text/plain": [
       "HBox(children=(IntProgress(value=0, max=10), HTML(value='')))"
      ]
     },
     "metadata": {},
     "output_type": "display_data"
    },
    {
     "data": {
      "application/vnd.jupyter.widget-view+json": {
       "model_id": "8b1bfa763fc8407dab10a07e2f41b512",
       "version_major": 2,
       "version_minor": 0
      },
      "text/plain": [
       "HBox(children=(IntProgress(value=0, max=10), HTML(value='')))"
      ]
     },
     "metadata": {},
     "output_type": "display_data"
    },
    {
     "data": {
      "application/vnd.jupyter.widget-view+json": {
       "model_id": "1300cc257bef4384aaf0f3dec2e86159",
       "version_major": 2,
       "version_minor": 0
      },
      "text/plain": [
       "HBox(children=(IntProgress(value=0, max=10), HTML(value='')))"
      ]
     },
     "metadata": {},
     "output_type": "display_data"
    },
    {
     "data": {
      "application/vnd.jupyter.widget-view+json": {
       "model_id": "d5a959cec03b4dbb89d5a1088dee1fce",
       "version_major": 2,
       "version_minor": 0
      },
      "text/plain": [
       "HBox(children=(IntProgress(value=0, max=10), HTML(value='')))"
      ]
     },
     "metadata": {},
     "output_type": "display_data"
    },
    {
     "data": {
      "application/vnd.jupyter.widget-view+json": {
       "model_id": "8a4ba97e1a3e43a3854410eaf8239a59",
       "version_major": 2,
       "version_minor": 0
      },
      "text/plain": [
       "HBox(children=(IntProgress(value=0, max=10), HTML(value='')))"
      ]
     },
     "metadata": {},
     "output_type": "display_data"
    },
    {
     "data": {
      "application/vnd.jupyter.widget-view+json": {
       "model_id": "9d26778bd5b042c59e6e31bbbc2a2d48",
       "version_major": 2,
       "version_minor": 0
      },
      "text/plain": [
       "HBox(children=(IntProgress(value=0, max=10), HTML(value='')))"
      ]
     },
     "metadata": {},
     "output_type": "display_data"
    },
    {
     "data": {
      "application/vnd.jupyter.widget-view+json": {
       "model_id": "dca1e3b8b6f94e9db3ac04556ffcaf10",
       "version_major": 2,
       "version_minor": 0
      },
      "text/plain": [
       "HBox(children=(IntProgress(value=0, max=10), HTML(value='')))"
      ]
     },
     "metadata": {},
     "output_type": "display_data"
    }
   ],
   "source": [
    "lr_predict = make_feature(lr, f_tfidf_30k_1_1, yy, \"predict\", yy.shape,\n",
    "                          i_full_train, i_test, cv)\n",
    "lr_predict_proba = make_feature(lr, f_tfidf_30k_1_1, yy, \"predict_proba\",\n",
    "                                yy.shape, i_full_train, i_test, cv)\n",
    "\n",
    "lr_predict_v2 = make_feature(lr_v2, f_tfidf_10k_1_1_v2, yy, \"predict\", yy.shape,\n",
    "                             i_full_train, i_test, cv)\n",
    "lr_predict_proba_v2 = make_feature(lr_v2, f_tfidf_10k_1_1_v2, yy, \"predict_proba\",\n",
    "                                   yy.shape, i_full_train, i_test, cv)\n",
    "\n",
    "svm_predict = make_feature(svm, f_tfidf_30k_1_1, yy, \"predict\", yy.shape, i_full_train,\n",
    "                           i_test, cv)\n",
    "svm_predict_proba = make_feature(svm, f_tfidf_30k_1_1, yy, \"decision_function\", yy.shape,\n",
    "                                 i_full_train, i_test, cv)\n",
    "\n",
    "svm_predict_v2 = make_feature(svm_v2, f_tfidf_10k_1_1_v2, yy, \"predict\", yy.shape,\n",
    "                              i_full_train, i_test, cv)\n",
    "svm_predict_proba_v2 = make_feature(svm_v2, f_tfidf_10k_1_1_v2, yy, \"decision_function\",\n",
    "                                    yy.shape, i_full_train, i_test, cv)"
   ]
  },
  {
   "cell_type": "code",
   "execution_count": 73,
   "metadata": {
    "ExecuteTime": {
     "end_time": "2019-01-20T19:36:52.870515Z",
     "start_time": "2019-01-20T19:36:52.801109Z"
    }
   },
   "outputs": [],
   "source": [
    "svm_predict_proba_norm = (svm_predict_proba - svm_predict_proba.min(axis=1)[:, np.newaxis]) / (\n",
    "    (svm_predict_proba.max(axis=1) - svm_predict_proba.min(axis=1)))[:, np.newaxis]\n",
    "\n",
    "svm_predict_proba_v2_norm = (svm_predict_proba_v2 - svm_predict_proba_v2.min(axis=1)[:, np.newaxis]) / (\n",
    "    (svm_predict_proba_v2.max(axis=1) - svm_predict_proba_v2.min(axis=1)))[:, np.newaxis]"
   ]
  },
  {
   "cell_type": "code",
   "execution_count": 74,
   "metadata": {
    "ExecuteTime": {
     "end_time": "2019-01-20T19:36:53.012933Z",
     "start_time": "2019-01-20T19:36:52.872877Z"
    }
   },
   "outputs": [],
   "source": [
    "f_all = np.hstack((lr_predict, lr_predict_proba, lr_predict_v2, lr_predict_proba_v2,\n",
    "                   svm_predict, svm_predict_proba_norm, svm_predict_v2, svm_predict_proba_v2_norm))"
   ]
  },
  {
   "cell_type": "code",
   "execution_count": 75,
   "metadata": {
    "ExecuteTime": {
     "end_time": "2019-01-20T19:36:53.032601Z",
     "start_time": "2019-01-20T19:36:53.014705Z"
    }
   },
   "outputs": [
    {
     "data": {
      "text/plain": [
       "array([1, 0, 0, 0, 0, 1, 1, 0, 0, 0, 0, 0, 0, 0, 1, 0, 0, 0, 0, 0])"
      ]
     },
     "execution_count": 75,
     "metadata": {},
     "output_type": "execute_result"
    }
   ],
   "source": [
    "f_all[i_val.max()-2].astype(int).reshape((8,20)).max(axis=0)"
   ]
  },
  {
   "cell_type": "code",
   "execution_count": 76,
   "metadata": {
    "ExecuteTime": {
     "end_time": "2019-01-20T19:36:53.044252Z",
     "start_time": "2019-01-20T19:36:53.038091Z"
    }
   },
   "outputs": [
    {
     "data": {
      "text/plain": [
       "array([1, 0, 0, 0, 0, 0, 1, 0, 0, 0, 0, 0, 0, 0, 0, 0, 0, 0, 0, 0])"
      ]
     },
     "execution_count": 76,
     "metadata": {},
     "output_type": "execute_result"
    }
   ],
   "source": [
    "yy[i_val.max()-2]"
   ]
  },
  {
   "cell_type": "markdown",
   "metadata": {},
   "source": [
    "## LightGBM\n",
    "\n",
    "As a second-level model."
   ]
  },
  {
   "cell_type": "code",
   "execution_count": 77,
   "metadata": {
    "ExecuteTime": {
     "end_time": "2019-01-20T19:36:53.054796Z",
     "start_time": "2019-01-20T19:36:53.047235Z"
    }
   },
   "outputs": [],
   "source": [
    "lgbm = OneVsRestClassifier(LGBMClassifier(random_state=42))"
   ]
  },
  {
   "cell_type": "code",
   "execution_count": 79,
   "metadata": {
    "ExecuteTime": {
     "end_time": "2019-01-20T19:46:38.869520Z",
     "start_time": "2019-01-20T19:38:55.200070Z"
    }
   },
   "outputs": [
    {
     "data": {
      "application/vnd.jupyter.widget-view+json": {
       "model_id": "b15bfe63197d4da68d1865ea74fa6e99",
       "version_major": 2,
       "version_minor": 0
      },
      "text/plain": [
       "HBox(children=(IntProgress(value=0, max=4), HTML(value='')))"
      ]
     },
     "metadata": {},
     "output_type": "display_data"
    },
    {
     "name": "stdout",
     "output_type": "stream",
     "text": [
      "estimator__n_estimators = 50\n",
      "train_score = 0.721\n",
      "cross_val test score = 0.648 ± 0.003\n",
      "validation score = 0.608\n",
      "\n",
      "estimator__n_estimators = 70\n",
      "train_score = 0.744\n",
      "cross_val test score = 0.649 ± 0.003\n",
      "validation score = 0.607\n",
      "\n",
      "estimator__n_estimators = 100\n",
      "train_score = 0.780\n",
      "cross_val test score = 0.648 ± 0.002\n",
      "validation score = 0.603\n",
      "\n",
      "estimator__n_estimators = 130\n",
      "train_score = 0.812\n",
      "cross_val test score = 0.647 ± 0.002\n",
      "validation score = 0.606\n",
      "\n"
     ]
    },
    {
     "data": {
      "text/plain": [
       "50"
      ]
     },
     "execution_count": 79,
     "metadata": {},
     "output_type": "execute_result"
    }
   ],
   "source": [
    "evaluate(lgbm, features=f_all[i_train], target=yy[i_train],\n",
    "         val_features=f_all[i_val], val_target=yy[i_val],\n",
    "         param=\"estimator__n_estimators\", values=[50, 70, 100, 130])"
   ]
  },
  {
   "cell_type": "code",
   "execution_count": 80,
   "metadata": {
    "ExecuteTime": {
     "end_time": "2019-01-20T19:46:38.876087Z",
     "start_time": "2019-01-20T19:46:38.872232Z"
    }
   },
   "outputs": [],
   "source": [
    "lgbm.set_params(estimator__n_estimators=70);"
   ]
  },
  {
   "cell_type": "code",
   "execution_count": 81,
   "metadata": {
    "ExecuteTime": {
     "end_time": "2019-01-20T19:53:15.625160Z",
     "start_time": "2019-01-20T19:46:38.879204Z"
    }
   },
   "outputs": [
    {
     "data": {
      "application/vnd.jupyter.widget-view+json": {
       "model_id": "0ad73e580de74339bab1651c0fcb76fc",
       "version_major": 2,
       "version_minor": 0
      },
      "text/plain": [
       "HBox(children=(IntProgress(value=0, max=7), HTML(value='')))"
      ]
     },
     "metadata": {},
     "output_type": "display_data"
    },
    {
     "name": "stdout",
     "output_type": "stream",
     "text": [
      "estimator__num_leaves = 6\n",
      "train_score = 0.664\n",
      "cross_val test score = 0.651 ± 0.003\n",
      "validation score = 0.613\n",
      "\n",
      "estimator__num_leaves = 7\n",
      "train_score = 0.665\n",
      "cross_val test score = 0.649 ± 0.003\n",
      "validation score = 0.613\n",
      "\n",
      "estimator__num_leaves = 8\n",
      "train_score = 0.668\n",
      "cross_val test score = 0.650 ± 0.002\n",
      "validation score = 0.610\n",
      "\n",
      "estimator__num_leaves = 9\n",
      "train_score = 0.673\n",
      "cross_val test score = 0.649 ± 0.003\n",
      "validation score = 0.610\n",
      "\n",
      "estimator__num_leaves = 10\n",
      "train_score = 0.676\n",
      "cross_val test score = 0.650 ± 0.003\n",
      "validation score = 0.610\n",
      "\n",
      "estimator__num_leaves = 11\n",
      "train_score = 0.680\n",
      "cross_val test score = 0.649 ± 0.003\n",
      "validation score = 0.611\n",
      "\n",
      "estimator__num_leaves = 12\n",
      "train_score = 0.683\n",
      "cross_val test score = 0.650 ± 0.002\n",
      "validation score = 0.611\n",
      "\n"
     ]
    },
    {
     "data": {
      "text/plain": [
       "6"
      ]
     },
     "execution_count": 81,
     "metadata": {},
     "output_type": "execute_result"
    }
   ],
   "source": [
    "evaluate(lgbm, features=f_all[i_train], target=yy[i_train],\n",
    "         val_features=f_all[i_val], val_target=yy[i_val],\n",
    "         param=\"estimator__num_leaves\", values=[6, 7, 8, 9, 10, 11, 12])"
   ]
  },
  {
   "cell_type": "code",
   "execution_count": 82,
   "metadata": {
    "ExecuteTime": {
     "end_time": "2019-01-20T19:53:15.631740Z",
     "start_time": "2019-01-20T19:53:15.628136Z"
    }
   },
   "outputs": [],
   "source": [
    "lgbm.set_params(estimator__num_leaves=6);"
   ]
  },
  {
   "cell_type": "code",
   "execution_count": 83,
   "metadata": {
    "ExecuteTime": {
     "end_time": "2019-01-20T19:57:25.748640Z",
     "start_time": "2019-01-20T19:53:15.636886Z"
    }
   },
   "outputs": [
    {
     "data": {
      "application/vnd.jupyter.widget-view+json": {
       "model_id": "f7a4a25215f84758b24017a81320dd32",
       "version_major": 2,
       "version_minor": 0
      },
      "text/plain": [
       "HBox(children=(IntProgress(value=0, max=5), HTML(value='')))"
      ]
     },
     "metadata": {},
     "output_type": "display_data"
    },
    {
     "name": "stdout",
     "output_type": "stream",
     "text": [
      "estimator__min_data_in_leaf = 50\n",
      "train_score = 0.664\n",
      "cross_val test score = 0.652 ± 0.003\n",
      "validation score = 0.614\n",
      "\n",
      "estimator__min_data_in_leaf = 70\n",
      "train_score = 0.663\n",
      "cross_val test score = 0.653 ± 0.003\n",
      "validation score = 0.613\n",
      "\n",
      "estimator__min_data_in_leaf = 90\n",
      "train_score = 0.665\n",
      "cross_val test score = 0.653 ± 0.003\n",
      "validation score = 0.615\n",
      "\n",
      "new best! 90\n",
      "\n",
      "estimator__min_data_in_leaf = 110\n",
      "train_score = 0.664\n",
      "cross_val test score = 0.652 ± 0.003\n",
      "validation score = 0.613\n",
      "\n",
      "estimator__min_data_in_leaf = 130\n",
      "train_score = 0.664\n",
      "cross_val test score = 0.653 ± 0.003\n",
      "validation score = 0.614\n",
      "\n"
     ]
    },
    {
     "data": {
      "text/plain": [
       "90"
      ]
     },
     "execution_count": 83,
     "metadata": {},
     "output_type": "execute_result"
    }
   ],
   "source": [
    "evaluate(lgbm, features=f_all[i_train], target=yy[i_train],\n",
    "         val_features=f_all[i_val], val_target=yy[i_val],\n",
    "         param=\"estimator__min_data_in_leaf\", values=np.arange(50, 131, 20))"
   ]
  },
  {
   "cell_type": "code",
   "execution_count": 84,
   "metadata": {
    "ExecuteTime": {
     "end_time": "2019-01-20T19:57:25.756409Z",
     "start_time": "2019-01-20T19:57:25.751357Z"
    }
   },
   "outputs": [],
   "source": [
    "lgbm.set_params(estimator__min_data_in_leaf=90);"
   ]
  },
  {
   "cell_type": "code",
   "execution_count": 85,
   "metadata": {
    "ExecuteTime": {
     "end_time": "2019-01-20T20:00:26.241671Z",
     "start_time": "2019-01-20T19:57:25.759446Z"
    }
   },
   "outputs": [
    {
     "data": {
      "application/vnd.jupyter.widget-view+json": {
       "model_id": "c99c06a85d1e4e2382426abca48ce563",
       "version_major": 2,
       "version_minor": 0
      },
      "text/plain": [
       "HBox(children=(IntProgress(value=0, max=10), HTML(value='')))"
      ]
     },
     "metadata": {},
     "output_type": "display_data"
    }
   ],
   "source": [
    "f_lgbm_predict_proba = make_feature(lgbm, f_all, yy, \"predict_proba\", yy.shape, i_full_train, i_test, cv)"
   ]
  },
  {
   "cell_type": "code",
   "execution_count": 86,
   "metadata": {
    "ExecuteTime": {
     "end_time": "2019-01-20T20:03:27.537608Z",
     "start_time": "2019-01-20T20:00:26.243488Z"
    }
   },
   "outputs": [
    {
     "data": {
      "application/vnd.jupyter.widget-view+json": {
       "model_id": "24b952c908ae4ed09e070ec4af07654b",
       "version_major": 2,
       "version_minor": 0
      },
      "text/plain": [
       "HBox(children=(IntProgress(value=0, max=10), HTML(value='')))"
      ]
     },
     "metadata": {},
     "output_type": "display_data"
    }
   ],
   "source": [
    "f_lgbm_predict = make_feature(lgbm, f_all, yy, \"predict\", yy.shape, i_full_train, i_test, cv)"
   ]
  },
  {
   "cell_type": "markdown",
   "metadata": {},
   "source": [
    "One threshold for all genres works bad:"
   ]
  },
  {
   "cell_type": "code",
   "execution_count": 87,
   "metadata": {
    "ExecuteTime": {
     "end_time": "2019-01-20T20:03:27.642967Z",
     "start_time": "2019-01-20T20:03:27.539859Z"
    },
    "scrolled": true
   },
   "outputs": [
    {
     "data": {
      "text/plain": [
       "0.5144229959949664"
      ]
     },
     "execution_count": 87,
     "metadata": {},
     "output_type": "execute_result"
    }
   ],
   "source": [
    "f1_score(yy, f_lgbm_predict, average='samples')"
   ]
  },
  {
   "cell_type": "code",
   "execution_count": 88,
   "metadata": {
    "ExecuteTime": {
     "end_time": "2019-01-20T20:03:27.927015Z",
     "start_time": "2019-01-20T20:03:27.645549Z"
    }
   },
   "outputs": [],
   "source": [
    "preds = lgbm.predict(f_all[i_val])"
   ]
  },
  {
   "cell_type": "code",
   "execution_count": 89,
   "metadata": {
    "ExecuteTime": {
     "end_time": "2019-01-20T20:03:28.208917Z",
     "start_time": "2019-01-20T20:03:27.929821Z"
    }
   },
   "outputs": [],
   "source": [
    "lgbm_proba = lgbm.predict_proba(f_all[i_val])"
   ]
  },
  {
   "cell_type": "markdown",
   "metadata": {},
   "source": [
    "## Threshold selection"
   ]
  },
  {
   "cell_type": "code",
   "execution_count": 90,
   "metadata": {
    "ExecuteTime": {
     "end_time": "2019-01-20T20:03:41.104916Z",
     "start_time": "2019-01-20T20:03:28.212270Z"
    }
   },
   "outputs": [],
   "source": [
    "scores = {}\n",
    "for k in range(20):\n",
    "    li = []\n",
    "    for treshold in range(100):\n",
    "        li.append(f1_score(yy[:,k], f_lgbm_predict_proba[:,k] > treshold / 100))\n",
    "    scores[k] = np.argmax(li) / 100"
   ]
  },
  {
   "cell_type": "code",
   "execution_count": 91,
   "metadata": {
    "ExecuteTime": {
     "end_time": "2019-01-20T20:03:41.777891Z",
     "start_time": "2019-01-20T20:03:41.107322Z"
    }
   },
   "outputs": [],
   "source": [
    "lgbm_preds = list(map(lambda row: np.array([1 if proba >= max(0.37, scores[k])\n",
    "                                            else 0 for k, proba in enumerate(row)]), f_lgbm_predict_proba))\n",
    "lgbm_preds = np.vstack(lgbm_preds)"
   ]
  },
  {
   "cell_type": "code",
   "execution_count": 95,
   "metadata": {
    "ExecuteTime": {
     "end_time": "2019-01-20T20:03:41.916392Z",
     "start_time": "2019-01-20T20:03:41.878921Z"
    }
   },
   "outputs": [
    {
     "data": {
      "text/plain": [
       "0.6146970149682051"
      ]
     },
     "execution_count": 95,
     "metadata": {},
     "output_type": "execute_result"
    }
   ],
   "source": [
    "y_pred = lgbm_preds[i_test].astype('int')\n",
    "f1_score(yy_test, y_pred, average='samples')"
   ]
  },
  {
   "cell_type": "code",
   "execution_count": 96,
   "metadata": {
    "ExecuteTime": {
     "end_time": "2019-01-20T20:03:41.925479Z",
     "start_time": "2019-01-20T20:03:41.919067Z"
    }
   },
   "outputs": [
    {
     "data": {
      "text/plain": [
       "'drama'"
      ]
     },
     "execution_count": 96,
     "metadata": {},
     "output_type": "execute_result"
    }
   ],
   "source": [
    "', '.join(list(mlb.inverse_transform(lgbm_preds[0:1])[0]))"
   ]
  },
  {
   "cell_type": "code",
   "execution_count": null,
   "metadata": {},
   "outputs": [],
   "source": []
  },
  {
   "cell_type": "code",
   "execution_count": null,
   "metadata": {},
   "outputs": [],
   "source": []
  },
  {
   "cell_type": "code",
   "execution_count": 97,
   "metadata": {
    "ExecuteTime": {
     "end_time": "2019-01-20T20:03:59.306513Z",
     "start_time": "2019-01-20T20:03:41.927326Z"
    }
   },
   "outputs": [
    {
     "data": {
      "text/plain": [
       "OneVsRestClassifier(estimator=LGBMClassifier(boosting_type='gbdt', class_weight=None, colsample_bytree=1.0,\n",
       "        importance_type='split', learning_rate=0.1, max_depth=-1,\n",
       "        min_child_samples=20, min_child_weight=0.001, min_data_in_leaf=130,\n",
       "        min_split_gain=0.0, n_estimators=70, n_jobs=-1, num_leaves=6,\n",
       "        objective=None, random_state=42, reg_alpha=0.0, reg_lambda=0.0,\n",
       "        silent=True, subsample=1.0, subsample_for_bin=200000,\n",
       "        subsample_freq=0),\n",
       "          n_jobs=1)"
      ]
     },
     "execution_count": 97,
     "metadata": {},
     "output_type": "execute_result"
    }
   ],
   "source": [
    "lgbm.fit(f_all[i_full_train], yy[i_full_train])"
   ]
  },
  {
   "cell_type": "code",
   "execution_count": 98,
   "metadata": {
    "ExecuteTime": {
     "end_time": "2019-01-20T20:03:59.311809Z",
     "start_time": "2019-01-20T20:03:59.308718Z"
    }
   },
   "outputs": [],
   "source": [
    "import pickle"
   ]
  },
  {
   "cell_type": "code",
   "execution_count": 99,
   "metadata": {
    "ExecuteTime": {
     "end_time": "2019-01-20T20:03:59.592614Z",
     "start_time": "2019-01-20T20:03:59.315168Z"
    }
   },
   "outputs": [],
   "source": [
    "with open(\"models.pickle\", \"wb\") as f:\n",
    "    pickle.dump({\n",
    "        'lgbm': lgbm,\n",
    "        'lr_1': lr,\n",
    "        'lr_2': lr_v2,\n",
    "        'svm_1': svm,\n",
    "        'svm_2': svm_v2,\n",
    "        'tfidf_1': tfidf_30k_1_1,\n",
    "        'tfidf_2': tfidf_10k_1_1_v2,\n",
    "        'mlb': mlb,\n",
    "        'scores': scores\n",
    "    }, f)"
   ]
  },
  {
   "cell_type": "markdown",
   "metadata": {},
   "source": [
    "---\n",
    "\n",
    "# Predictions"
   ]
  },
  {
   "cell_type": "code",
   "execution_count": 100,
   "metadata": {
    "ExecuteTime": {
     "end_time": "2019-01-20T20:04:01.295591Z",
     "start_time": "2019-01-20T20:03:59.594909Z"
    }
   },
   "outputs": [],
   "source": [
    "test = df_test[\"dialogue\"].values\n",
    "tfidf_1 = tfidf_30k_1_1.transform(test)\n",
    "tfidf_2 = tfidf_10k_1_1_v2.transform(test)\n",
    "        \n",
    "lr_predict_1 = lr.predict(tfidf_1)\n",
    "lr_predict_proba_1 = lr.predict_proba(tfidf_1)\n",
    "        \n",
    "lr_predict_2 = lr_v2.predict(tfidf_2)\n",
    "lr_predict_proba_2 = lr_v2.predict_proba(tfidf_2)\n",
    "        \n",
    "svm_predict_1 = svm.predict(tfidf_1)\n",
    "svm_predict_proba_1 = svm.decision_function(tfidf_1)\n",
    "        \n",
    "svm_predict_2 = svm_v2.predict(tfidf_2)\n",
    "svm_predict_proba_2 = svm_v2.decision_function(tfidf_2)\n",
    "        \n",
    "svm_predict_proba_1_norm = (svm_predict_proba_1 - svm_predict_proba_1.min(axis=1)[:, np.newaxis]) / (\n",
    "    (svm_predict_proba_1.max(axis=1) - svm_predict_proba_1.min(axis=1)))[:, np.newaxis]\n",
    "\n",
    "svm_predict_proba_2_norm = (svm_predict_proba_2 - svm_predict_proba_2.min(axis=1)[:, np.newaxis]) / (\n",
    "    (svm_predict_proba_2.max(axis=1) - svm_predict_proba_2.min(axis=1)))[:, np.newaxis]\n",
    "        \n",
    "f_all = np.hstack((lr_predict_1, lr_predict_proba_1,\n",
    "                   lr_predict_2, lr_predict_proba_2,\n",
    "                   svm_predict_1, svm_predict_proba_1_norm,\n",
    "                   svm_predict_2, svm_predict_proba_2_norm))\n",
    "        \n",
    "lgbm_predict_proba = lgbm.predict_proba(f_all)\n",
    "lgbm_preds = list(map(lambda row: np.array([1 if proba >= max(0.37, scores[k])\n",
    "                                            else 0 for k, proba in enumerate(row)]), lgbm_predict_proba))"
   ]
  },
  {
   "cell_type": "code",
   "execution_count": 101,
   "metadata": {
    "ExecuteTime": {
     "end_time": "2019-01-20T20:04:01.330602Z",
     "start_time": "2019-01-20T20:04:01.298210Z"
    }
   },
   "outputs": [],
   "source": [
    "result = np.vstack(lgbm_preds)"
   ]
  },
  {
   "cell_type": "code",
   "execution_count": 102,
   "metadata": {
    "ExecuteTime": {
     "end_time": "2019-01-20T20:04:01.339401Z",
     "start_time": "2019-01-20T20:04:01.332836Z"
    }
   },
   "outputs": [],
   "source": [
    "result[sum(result.T)==0] = np.array([0, 0, 0, 0, 0, 0, 1, 0, 0, 0, 0, 0, 0, 0, 0, 0, 0, 0, 0, 0])"
   ]
  },
  {
   "cell_type": "markdown",
   "metadata": {},
   "source": [
    "Without replacement of zero-predictions:"
   ]
  },
  {
   "cell_type": "code",
   "execution_count": 154,
   "metadata": {
    "ExecuteTime": {
     "end_time": "2019-01-23T04:26:38.695727Z",
     "start_time": "2019-01-23T04:26:38.601579Z"
    }
   },
   "outputs": [
    {
     "name": "stdout",
     "output_type": "stream",
     "text": [
      "0.615\n"
     ]
    }
   ],
   "source": [
    "print(f\"{f1_score(yy_test, np.vstack(lgbm_preds), average='samples'):.3}\")"
   ]
  },
  {
   "cell_type": "markdown",
   "metadata": {},
   "source": [
    "Replacement of zero-predictions with most popular genre - \"drama\" makes predictions a bit better:"
   ]
  },
  {
   "cell_type": "code",
   "execution_count": 155,
   "metadata": {
    "ExecuteTime": {
     "end_time": "2019-01-23T04:26:39.671844Z",
     "start_time": "2019-01-23T04:26:39.652163Z"
    }
   },
   "outputs": [
    {
     "name": "stdout",
     "output_type": "stream",
     "text": [
      "0.618\n"
     ]
    }
   ],
   "source": [
    "print(f\"{f1_score(yy_test, result, average='samples'):.3}\")"
   ]
  },
  {
   "cell_type": "code",
   "execution_count": null,
   "metadata": {},
   "outputs": [],
   "source": []
  },
  {
   "cell_type": "code",
   "execution_count": null,
   "metadata": {},
   "outputs": [],
   "source": []
  },
  {
   "cell_type": "code",
   "execution_count": 167,
   "metadata": {
    "ExecuteTime": {
     "end_time": "2019-01-23T05:10:42.606167Z",
     "start_time": "2019-01-23T05:10:42.558591Z"
    }
   },
   "outputs": [],
   "source": [
    "df_preds = pd.DataFrame(columns=['id', 'genres'])\n",
    "df_preds['id'] = np.arange(df_test.shape[0])"
   ]
  },
  {
   "cell_type": "code",
   "execution_count": 168,
   "metadata": {
    "ExecuteTime": {
     "end_time": "2019-01-23T05:10:49.312139Z",
     "start_time": "2019-01-23T05:10:49.276874Z"
    }
   },
   "outputs": [],
   "source": [
    "df_preds[\"genres\"] = [\" \".join(z) for z in mlb.inverse_transform(result)]"
   ]
  },
  {
   "cell_type": "code",
   "execution_count": 169,
   "metadata": {
    "ExecuteTime": {
     "end_time": "2019-01-23T05:10:55.710236Z",
     "start_time": "2019-01-23T05:10:55.703122Z"
    },
    "scrolled": true
   },
   "outputs": [
    {
     "data": {
      "text/html": [
       "<div>\n",
       "<style scoped>\n",
       "    .dataframe tbody tr th:only-of-type {\n",
       "        vertical-align: middle;\n",
       "    }\n",
       "\n",
       "    .dataframe tbody tr th {\n",
       "        vertical-align: top;\n",
       "    }\n",
       "\n",
       "    .dataframe thead th {\n",
       "        text-align: right;\n",
       "    }\n",
       "</style>\n",
       "<table border=\"1\" class=\"dataframe\">\n",
       "  <thead>\n",
       "    <tr style=\"text-align: right;\">\n",
       "      <th></th>\n",
       "      <th>id</th>\n",
       "      <th>genres</th>\n",
       "    </tr>\n",
       "  </thead>\n",
       "  <tbody>\n",
       "    <tr>\n",
       "      <th>0</th>\n",
       "      <td>0</td>\n",
       "      <td>drama</td>\n",
       "    </tr>\n",
       "    <tr>\n",
       "      <th>1</th>\n",
       "      <td>1</td>\n",
       "      <td>drama</td>\n",
       "    </tr>\n",
       "    <tr>\n",
       "      <th>2</th>\n",
       "      <td>2</td>\n",
       "      <td>drama</td>\n",
       "    </tr>\n",
       "    <tr>\n",
       "      <th>3</th>\n",
       "      <td>3</td>\n",
       "      <td>drama romance</td>\n",
       "    </tr>\n",
       "    <tr>\n",
       "      <th>4</th>\n",
       "      <td>4</td>\n",
       "      <td>action thriller</td>\n",
       "    </tr>\n",
       "  </tbody>\n",
       "</table>\n",
       "</div>"
      ],
      "text/plain": [
       "   id           genres\n",
       "0   0            drama\n",
       "1   1            drama\n",
       "2   2            drama\n",
       "3   3    drama romance\n",
       "4   4  action thriller"
      ]
     },
     "execution_count": 169,
     "metadata": {},
     "output_type": "execute_result"
    }
   ],
   "source": [
    "df_preds.head()"
   ]
  },
  {
   "cell_type": "markdown",
   "metadata": {},
   "source": [
    "$\\textbf {Some predictions are correct}$"
   ]
  },
  {
   "cell_type": "code",
   "execution_count": 108,
   "metadata": {
    "ExecuteTime": {
     "end_time": "2019-01-20T20:04:01.493873Z",
     "start_time": "2019-01-20T20:04:01.488837Z"
    }
   },
   "outputs": [
    {
     "name": "stdout",
     "output_type": "stream",
     "text": [
      "dialog:\n",
      "Gordon, the insurance people are balking on the logging trucks... <BR> Tell those spineless toads we'll self-insure if they don't write it... You fire 33 vice presidents and nothing changes...  You eating twinkies today, Bud, or are you schtupping some stewardess... \n",
      "\n",
      "actual genres:\n",
      " drama \n",
      "\n",
      "predicted genres:\n",
      " drama\n"
     ]
    }
   ],
   "source": [
    "n = 1\n",
    "print('dialog:\\n{}'.format(test_answ.iloc[n,1]), '\\n')\n",
    "print('actual genres:\\n', test_answ.iloc[n,2], '\\n')\n",
    "print('predicted genres:\\n', df_preds.iloc[n,1])"
   ]
  },
  {
   "cell_type": "code",
   "execution_count": 109,
   "metadata": {
    "ExecuteTime": {
     "end_time": "2019-01-20T20:04:01.502702Z",
     "start_time": "2019-01-20T20:04:01.496599Z"
    }
   },
   "outputs": [
    {
     "name": "stdout",
     "output_type": "stream",
     "text": [
      "dialog:\n",
      "Go onto the next question. <BR> Good advice for the French not for the English!  Do you think God hates the English? <BR> I don't know but you're all men of the church... why not ask Him yourself? \n",
      "\n",
      "actual genres:\n",
      " drama war \n",
      "\n",
      "predicted genres:\n",
      " drama war\n"
     ]
    }
   ],
   "source": [
    "n = 10\n",
    "print('dialog:\\n{}'.format(test_answ.iloc[n,1]), '\\n')\n",
    "print('actual genres:\\n', test_answ.iloc[n,2], '\\n')\n",
    "print('predicted genres:\\n', df_preds.iloc[n,1])"
   ]
  },
  {
   "cell_type": "markdown",
   "metadata": {
    "ExecuteTime": {
     "end_time": "2019-01-23T04:22:07.427262Z",
     "start_time": "2019-01-23T04:22:07.418771Z"
    }
   },
   "source": [
    "$\\textbf {Some predictions are absolutely wrong}$"
   ]
  },
  {
   "cell_type": "code",
   "execution_count": 147,
   "metadata": {
    "ExecuteTime": {
     "end_time": "2019-01-23T04:20:19.617566Z",
     "start_time": "2019-01-23T04:20:19.611005Z"
    }
   },
   "outputs": [
    {
     "name": "stdout",
     "output_type": "stream",
     "text": [
      "dialog:\n",
      "I'm sorry. I don't know what else to say except I'm sorry. <BR> No I'm the one who's sorry. I misjudged you. Now if you'll excuse me I have some oozing to do. \n",
      "\n",
      "actual genres:\n",
      " thriller \n",
      "\n",
      "predicted genres:\n",
      " comedy drama\n"
     ]
    }
   ],
   "source": [
    "n = 100\n",
    "print('dialog:\\n{}'.format(test_answ.iloc[n,1]), '\\n')\n",
    "print('actual genres:\\n', test_answ.iloc[n,2], '\\n')\n",
    "print('predicted genres:\\n', df_preds.iloc[n,1])"
   ]
  },
  {
   "cell_type": "markdown",
   "metadata": {},
   "source": [
    "$\\textbf {And some predictions are partly correct}$"
   ]
  },
  {
   "cell_type": "code",
   "execution_count": 146,
   "metadata": {
    "ExecuteTime": {
     "end_time": "2019-01-23T04:20:08.263037Z",
     "start_time": "2019-01-23T04:20:08.254058Z"
    },
    "scrolled": true
   },
   "outputs": [
    {
     "name": "stdout",
     "output_type": "stream",
     "text": [
      "dialog:\n",
      "When you slaughter a goat and wrench its heart out with your bare hands do you then summon hellfire? <BR> I mean what are you actually doing here? What is the hidden agenda? \n",
      "\n",
      "actual genres:\n",
      " comedy drama \n",
      "\n",
      "predicted genres:\n",
      " crime drama\n"
     ]
    }
   ],
   "source": [
    "n = 1000\n",
    "print('dialog:\\n{}'.format(test_answ.iloc[n,1]), '\\n')\n",
    "print('actual genres:\\n', test_answ.iloc[n,2], '\\n')\n",
    "print('predicted genres:\\n', df_preds.iloc[n,1])"
   ]
  }
 ],
 "metadata": {
  "kernelspec": {
   "display_name": "Python 3",
   "language": "python",
   "name": "python3"
  },
  "language_info": {
   "codemirror_mode": {
    "name": "ipython",
    "version": 3
   },
   "file_extension": ".py",
   "mimetype": "text/x-python",
   "name": "python",
   "nbconvert_exporter": "python",
   "pygments_lexer": "ipython3",
   "version": "3.6.5"
  },
  "latex_envs": {
   "LaTeX_envs_menu_present": true,
   "autoclose": false,
   "autocomplete": true,
   "bibliofile": "biblio.bib",
   "cite_by": "apalike",
   "current_citInitial": 1,
   "eqLabelWithNumbers": true,
   "eqNumInitial": 1,
   "hotkeys": {
    "equation": "Ctrl-E",
    "itemize": "Ctrl-I"
   },
   "labels_anchors": false,
   "latex_user_defs": false,
   "report_style_numbering": false,
   "user_envs_cfg": false
  },
  "notify_time": "5",
  "toc": {
   "base_numbering": 1,
   "nav_menu": {
    "height": "316px",
    "width": "314px"
   },
   "number_sections": true,
   "sideBar": true,
   "skip_h1_title": false,
   "title_cell": "Table of Contents",
   "title_sidebar": "Contents",
   "toc_cell": false,
   "toc_position": {},
   "toc_section_display": true,
   "toc_window_display": false
  }
 },
 "nbformat": 4,
 "nbformat_minor": 2
}
